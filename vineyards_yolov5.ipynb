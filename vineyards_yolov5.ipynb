{
  "nbformat": 4,
  "nbformat_minor": 0,
  "metadata": {
    "colab": {
      "provenance": []
    },
    "kernelspec": {
      "name": "python3",
      "display_name": "Python 3"
    },
    "language_info": {
      "name": "python"
    }
  },
  "cells": [
    {
      "cell_type": "code",
      "execution_count": null,
      "metadata": {
        "id": "YT2ki-Xv_0SQ"
      },
      "outputs": [],
      "source": [
        "\n",
        "!pip install torch torchvision torchaudio\n",
        "!pip install git+https://github.com/ultralytics/yolov5.git\n",
        "\n",
        "\n",
        "from google.colab import drive\n",
        "drive.mount('/content/drive')\n",
        "\n",
        "import os\n",
        "from IPython.display import Image, clear_output\n",
        "\n",
        "\n",
        "dataset_yaml = '/content/vineyards-1/data.yaml'\n",
        "train_dir = '/content/vineyards-1/train/images'\n",
        "val_dir = '/content/vineyards-1/valid'\n",
        "test_dir = '/content/vineyards-1/test'\n",
        "save_dir = os.path.join('/content/drive/MyDrive/vineyards_task')\n",
        "best_dir = '/content/drive/MyDrive/vineyards_task/vine_best.pt'\n",
        "\n",
        "\n",
        "!git clone https://github.com/ultralytics/yolov5.git\n",
        "%cd yolov5\n",
        "\n",
        "!ls\n",
        "\n",
        "\n",
        "if train:\n",
        "    !python train.py --img 640 --batch 16 --epochs 50 --data {dataset_yaml} --weights yolov5s.pt --project {save_dir} --name vineyard_model\n",
        "\n",
        "\n",
        "test_imgs = [os.path.join(test_dir, 'images', x) for x in os.listdir(test_dir + '/images')]\n",
        "\n",
        "\n",
        "from yolov5 import YOLO\n",
        "\n",
        "model = YOLO(best_dir)\n",
        "\n",
        "\n",
        "results = model(test_imgs[:4])\n",
        "\n",
        "import matplotlib.pyplot as plt\n",
        "from PIL import Image\n",
        "\n",
        "rows, cols = len(results), 2\n",
        "fig, axes = plt.subplots(rows, cols, figsize=(25, 25))\n",
        "fig.set_figheight(25)\n",
        "fig.set_figwidth(25)\n",
        "\n",
        "for row, (img_path, detect) in enumerate(zip(test_imgs[:4], results)):\n",
        "    img = Image.open(img_path)\n",
        "    axes[row, 0].imshow(img)\n",
        "    axes[row, 0].set_xticks([])\n",
        "    axes[row, 0].set_yticks([])\n",
        "\n",
        "    detect.render()\n",
        "    detect_img = detect.imgs[0]\n",
        "    axes[row, 1].imshow(detect_img)\n",
        "    axes[row, 1].set_xticks([])\n",
        "    axes[row, 1].set_yticks([])\n",
        "\n",
        "plt.tight_layout()\n",
        "plt.show()\n"
      ]
    }
  ]
}