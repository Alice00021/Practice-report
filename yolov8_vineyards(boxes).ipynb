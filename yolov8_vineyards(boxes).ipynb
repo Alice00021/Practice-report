{
 "cells": [
  {
   "cell_type": "code",
   "execution_count": 1,
   "id": "a69b84b5-46be-4d96-bcce-53cd163615d0",
   "metadata": {},
   "outputs": [],
   "source": [
    "train = True"
   ]
  },
  {
   "cell_type": "code",
   "execution_count": 2,
   "id": "0ee19848-a9af-40ea-b82f-2751d8559aa6",
   "metadata": {},
   "outputs": [
    {
     "name": "stdout",
     "output_type": "stream",
     "text": [
      "images\tlabels\tlabels.cache\n"
     ]
    }
   ],
   "source": [
    "! ls vineyards-1/valid"
   ]
  },
  {
   "cell_type": "code",
   "execution_count": 3,
   "id": "af968ace-b4f1-410a-aef2-457713f1def2",
   "metadata": {},
   "outputs": [],
   "source": [
    "import gdown\n",
    "import numpy as np\n",
    "import matplotlib.pyplot as plt\n",
    "from matplotlib import patches\n",
    "import pandas as pd\n",
    "import json\n",
    "from tqdm import tqdm\n",
    "import os\n",
    "from PIL import Image\n",
    "\n",
    "import albumentations as A\n",
    "import torch\n",
    "from torch.utils.data import Dataset\n",
    "from torch.utils.data import DataLoader\n",
    "import torch.nn as nn\n",
    "\n",
    "import ultralytics\n",
    "from ultralytics import YOLO\n",
    "\n",
    "from clearml import Task, Logger"
   ]
  },
  {
   "cell_type": "code",
   "execution_count": 4,
   "id": "13004beb-8359-4095-8622-bea8592e453c",
   "metadata": {},
   "outputs": [
    {
     "name": "stdout",
     "output_type": "stream",
     "text": [
      "env: CLEARML_WEB_HOST=https://app.clear.ml/\n",
      "env: CLEARML_API_HOST=https://api.clear.ml\n",
      "env: CLEARML_FILES_HOST=https://files.clear.ml\n",
      "env: CLEARML_API_ACCESS_KEY=J35TDHSFXOCRAW5QIRR5YF4EN0OA8R\n",
      "env: CLEARML_API_SECRET_KEY=BKihDZnjDtPZzlBwNpsE6LY6r6tpJqZIbZuKiECKAu2pB78knuK6voRWtcWoizSq_J8\n"
     ]
    }
   ],
   "source": [
    "%env CLEARML_WEB_HOST=https://app.clear.ml/\n",
    "%env CLEARML_API_HOST=https://api.clear.ml\n",
    "%env CLEARML_FILES_HOST=https://files.clear.ml\n",
    "%env CLEARML_API_ACCESS_KEY=J35TDHSFXOCRAW5QIRR5YF4EN0OA8R\n",
    "%env CLEARML_API_SECRET_KEY=BKihDZnjDtPZzlBwNpsE6LY6r6tpJqZIbZuKiECKAu2pB78knuK6voRWtcWoizSq_J8"
   ]
  },
  {
   "cell_type": "code",
   "execution_count": 7,
   "id": "eef6ebb8-1542-4af4-af9e-0807ac99136b",
   "metadata": {},
   "outputs": [
    {
     "name": "stdout",
     "output_type": "stream",
     "text": [
      "ultralytics==8.2.64\n",
      "ultralytics-thop==2.0.0\n",
      "Note: you may need to restart the kernel to use updated packages.\n"
     ]
    }
   ],
   "source": [
    "pip freeze | grep ultralytics  "
   ]
  },
  {
   "cell_type": "code",
   "execution_count": 11,
   "id": "15a8e2e2-36b3-43d1-ab69-6a6be0f4710c",
   "metadata": {},
   "outputs": [
    {
     "name": "stdout",
     "output_type": "stream",
     "text": [
      "data.yaml  README.dataset.txt  README.roboflow.txt  test  train  valid\n"
     ]
    }
   ],
   "source": [
    "! ls /home/comp2/vineyards-1"
   ]
  },
  {
   "cell_type": "code",
   "execution_count": 13,
   "id": "b23fd749-7faa-4f39-aefb-061dbc2b3d44",
   "metadata": {},
   "outputs": [],
   "source": [
    "dataset_yaml = '/home/comp2/vineyards-1/data.yaml'\n",
    "train_dir = '/home/comp2/vineyards-1/train/images'\n",
    "val_dir = '/home/comp2/vineyards-1/valid'\n",
    "test_dir = '/home/comp2/vineyards-1/test'\n",
    "save_dir = '/home/comp2/runs/segment'\n",
    "best_dir = os.path.join(save_dir, 'train22/weights/best.pt') "
   ]
  },
  {
   "cell_type": "code",
   "execution_count": 15,
   "id": "795c05e7-ae1c-4c79-ad3c-01dbe214f822",
   "metadata": {},
   "outputs": [
    {
     "name": "stdout",
     "output_type": "stream",
     "text": [
      "/home/comp2/runs/segment/train22/weights/best.pt\n"
     ]
    }
   ],
   "source": [
    "! ls /home/comp2/runs/segment/train22/weights/best.pt"
   ]
  },
  {
   "cell_type": "code",
   "execution_count": 17,
   "id": "12086c8f-71e7-4025-b68a-c57cf9a3bf9d",
   "metadata": {},
   "outputs": [
    {
     "name": "stdout",
     "output_type": "stream",
     "text": [
      "Ultralytics YOLOv8.2.64 🚀 Python-3.12.4 torch-2.3.1+cu118 CUDA:0 (NVIDIA GeForce RTX 4090, 24084MiB)\n",
      "Setup complete ✅ (32 CPUs, 125.6 GB RAM, 147.1/862.3 GB disk)\n"
     ]
    }
   ],
   "source": [
    "ultralytics.checks()"
   ]
  },
  {
   "cell_type": "code",
   "execution_count": 21,
   "id": "5c302252-7e06-404d-8f4a-1e4cc561dad7",
   "metadata": {},
   "outputs": [],
   "source": [
    "if train:\n",
    "    task = Task.init(\n",
    "        project_name='vineyard-yolov8_50_boxes',\n",
    "        task_name='training-and-inference',\n",
    "        tags=['YOLOv8-50']\n",
    "    )"
   ]
  },
  {
   "cell_type": "code",
   "execution_count": 23,
   "id": "fad77f94-8f22-41a9-a2b6-834fe7a882b3",
   "metadata": {},
   "outputs": [
    {
     "name": "stdout",
     "output_type": "stream",
     "text": [
      "2024-07-24 14:25:16,836 - clearml.model - INFO - Selected model id: b4c1b8321ce34724a30c730a7f8217ee\n",
      "Ultralytics YOLOv8.2.64 🚀 Python-3.12.4 torch-2.3.1+cu118 CUDA:0 (NVIDIA GeForce RTX 4090, 24084MiB)\n",
      "\u001b[34m\u001b[1mengine/trainer: \u001b[0mtask=segment, mode=train, model=yolov8n-seg.pt, data=/home/comp2/vineyards-1/data.yaml, epochs=50, time=None, patience=100, batch=16, imgsz=640, save=True, save_period=-1, cache=False, device=None, workers=8, project=None, name=train23, exist_ok=False, pretrained=True, optimizer=auto, verbose=True, seed=0, deterministic=True, single_cls=False, rect=False, cos_lr=False, close_mosaic=10, resume=False, amp=True, fraction=1.0, profile=False, freeze=None, multi_scale=False, overlap_mask=True, mask_ratio=4, dropout=0.0, val=True, split=val, save_json=False, save_hybrid=False, conf=None, iou=0.7, max_det=300, half=False, dnn=False, plots=True, source=None, vid_stride=1, stream_buffer=False, visualize=False, augment=False, agnostic_nms=False, classes=None, retina_masks=False, embed=None, show=False, save_frames=False, save_txt=False, save_conf=False, save_crop=False, show_labels=True, show_conf=True, show_boxes=True, line_width=None, format=torchscript, keras=False, optimize=False, int8=False, dynamic=False, simplify=False, opset=None, workspace=4, nms=False, lr0=0.01, lrf=0.01, momentum=0.937, weight_decay=0.0005, warmup_epochs=3.0, warmup_momentum=0.8, warmup_bias_lr=0.1, box=7.5, cls=0.5, dfl=1.5, pose=12.0, kobj=1.0, label_smoothing=0.0, nbs=64, hsv_h=0.015, hsv_s=0.7, hsv_v=0.4, degrees=0.0, translate=0.1, scale=0.5, shear=0.0, perspective=0.0, flipud=0.0, fliplr=0.5, bgr=0.0, mosaic=1.0, mixup=0.0, copy_paste=0.0, auto_augment=randaugment, erasing=0.4, crop_fraction=1.0, cfg=None, tracker=botsort.yaml, save_dir=runs/segment/train23\n",
      "Overriding model.yaml nc=80 with nc=1\n",
      "\n",
      "                   from  n    params  module                                       arguments                     \n",
      "  0                  -1  1       464  ultralytics.nn.modules.conv.Conv             [3, 16, 3, 2]                 \n",
      "  1                  -1  1      4672  ultralytics.nn.modules.conv.Conv             [16, 32, 3, 2]                \n",
      "  2                  -1  1      7360  ultralytics.nn.modules.block.C2f             [32, 32, 1, True]             \n",
      "  3                  -1  1     18560  ultralytics.nn.modules.conv.Conv             [32, 64, 3, 2]                \n",
      "  4                  -1  2     49664  ultralytics.nn.modules.block.C2f             [64, 64, 2, True]             \n",
      "  5                  -1  1     73984  ultralytics.nn.modules.conv.Conv             [64, 128, 3, 2]               \n",
      "  6                  -1  2    197632  ultralytics.nn.modules.block.C2f             [128, 128, 2, True]           \n",
      "  7                  -1  1    295424  ultralytics.nn.modules.conv.Conv             [128, 256, 3, 2]              \n",
      "  8                  -1  1    460288  ultralytics.nn.modules.block.C2f             [256, 256, 1, True]           \n",
      "  9                  -1  1    164608  ultralytics.nn.modules.block.SPPF            [256, 256, 5]                 \n",
      " 10                  -1  1         0  torch.nn.modules.upsampling.Upsample         [None, 2, 'nearest']          \n",
      " 11             [-1, 6]  1         0  ultralytics.nn.modules.conv.Concat           [1]                           \n",
      " 12                  -1  1    148224  ultralytics.nn.modules.block.C2f             [384, 128, 1]                 \n",
      " 13                  -1  1         0  torch.nn.modules.upsampling.Upsample         [None, 2, 'nearest']          \n",
      " 14             [-1, 4]  1         0  ultralytics.nn.modules.conv.Concat           [1]                           \n",
      " 15                  -1  1     37248  ultralytics.nn.modules.block.C2f             [192, 64, 1]                  \n",
      " 16                  -1  1     36992  ultralytics.nn.modules.conv.Conv             [64, 64, 3, 2]                \n",
      " 17            [-1, 12]  1         0  ultralytics.nn.modules.conv.Concat           [1]                           \n",
      " 18                  -1  1    123648  ultralytics.nn.modules.block.C2f             [192, 128, 1]                 \n",
      " 19                  -1  1    147712  ultralytics.nn.modules.conv.Conv             [128, 128, 3, 2]              \n",
      " 20             [-1, 9]  1         0  ultralytics.nn.modules.conv.Concat           [1]                           \n",
      " 21                  -1  1    493056  ultralytics.nn.modules.block.C2f             [384, 256, 1]                 \n",
      " 22        [15, 18, 21]  1   1004275  ultralytics.nn.modules.head.Segment          [1, 32, 64, [64, 128, 256]]   \n",
      "YOLOv8n-seg summary: 261 layers, 3,263,811 parameters, 3,263,795 gradients, 12.1 GFLOPs\n",
      "\n",
      "Transferred 381/417 items from pretrained weights\n",
      "Freezing layer 'model.22.dfl.conv.weight'\n",
      "\u001b[34m\u001b[1mAMP: \u001b[0mrunning Automatic Mixed Precision (AMP) checks with YOLOv8n...\n",
      "\u001b[34m\u001b[1mAMP: \u001b[0mchecks passed ✅\n"
     ]
    },
    {
     "name": "stderr",
     "output_type": "stream",
     "text": [
      "\u001b[34m\u001b[1mtrain: \u001b[0mScanning /home/comp2/vineyards-1/train/labels.cache... 363 images, 0 backgrounds, 76 corrupt: 100%|██████████| 363/363 [00:00<?, ?it/s]"
     ]
    },
    {
     "name": "stdout",
     "output_type": "stream",
     "text": [
      "\u001b[34m\u001b[1mtrain: \u001b[0mWARNING ⚠️ /home/comp2/vineyards-1/train/images/16crop_png_jpg.rf.19b6d0b8a2053eec4c60e13065b22b01.jpg: ignoring corrupt image/label: non-normalized or out of bounds coordinates [     1.0266]\n",
      "\u001b[34m\u001b[1mtrain: \u001b[0mWARNING ⚠️ /home/comp2/vineyards-1/train/images/16crop_png_jpg.rf.1e383aa4d55803d73d15ca4d47263fe1.jpg: ignoring corrupt image/label: non-normalized or out of bounds coordinates [     1.0265]\n",
      "\u001b[34m\u001b[1mtrain: \u001b[0mWARNING ⚠️ /home/comp2/vineyards-1/train/images/16crop_png_jpg.rf.4a00ac59204d2a82a8bbd2b699aea41f.jpg: ignoring corrupt image/label: non-normalized or out of bounds coordinates [     1.0327]\n",
      "\u001b[34m\u001b[1mtrain: \u001b[0mWARNING ⚠️ /home/comp2/vineyards-1/train/images/16crop_png_jpg.rf.4fd80c4d1302c8b605b07f3e318b6acf.jpg: ignoring corrupt image/label: non-normalized or out of bounds coordinates [     1.0049]\n",
      "\u001b[34m\u001b[1mtrain: \u001b[0mWARNING ⚠️ /home/comp2/vineyards-1/train/images/16crop_png_jpg.rf.7da866fcd67426ea14b19af7dc6b7dec.jpg: ignoring corrupt image/label: non-normalized or out of bounds coordinates [     1.0277]\n",
      "\u001b[34m\u001b[1mtrain: \u001b[0mWARNING ⚠️ /home/comp2/vineyards-1/train/images/16crop_png_jpg.rf.8fc2cee0e481269184a084e917ee53b0.jpg: ignoring corrupt image/label: non-normalized or out of bounds coordinates [     1.0006]\n",
      "\u001b[34m\u001b[1mtrain: \u001b[0mWARNING ⚠️ /home/comp2/vineyards-1/train/images/16crop_png_jpg.rf.983f0d3f2c4621551ba2cdcf9f3fe033.jpg: ignoring corrupt image/label: non-normalized or out of bounds coordinates [     1.0159]\n",
      "\u001b[34m\u001b[1mtrain: \u001b[0mWARNING ⚠️ /home/comp2/vineyards-1/train/images/16crop_png_jpg.rf.b2104767ce4da9c40f37aa8a35f66f69.jpg: ignoring corrupt image/label: non-normalized or out of bounds coordinates [     1.0088]\n",
      "\u001b[34m\u001b[1mtrain: \u001b[0mWARNING ⚠️ /home/comp2/vineyards-1/train/images/16crop_png_jpg.rf.bc0fc19dd99a040dbc974ecfea6bfbf0.jpg: ignoring corrupt image/label: non-normalized or out of bounds coordinates [     1.0006]\n",
      "\u001b[34m\u001b[1mtrain: \u001b[0mWARNING ⚠️ /home/comp2/vineyards-1/train/images/16crop_png_jpg.rf.df57381ffd26dec933ecdd57162ef464.jpg: ignoring corrupt image/label: non-normalized or out of bounds coordinates [     1.0108]\n",
      "\u001b[34m\u001b[1mtrain: \u001b[0mWARNING ⚠️ /home/comp2/vineyards-1/train/images/16crop_png_jpg.rf.e855944df279a4af34ce9a65fd707f96.jpg: ignoring corrupt image/label: non-normalized or out of bounds coordinates [     1.0155]\n",
      "\u001b[34m\u001b[1mtrain: \u001b[0mWARNING ⚠️ /home/comp2/vineyards-1/train/images/19crop_png_jpg.rf.04d6936987e34386603dd60e160c82bd.jpg: ignoring corrupt image/label: non-normalized or out of bounds coordinates [     1.0286      1.0342      1.0325]\n",
      "\u001b[34m\u001b[1mtrain: \u001b[0mWARNING ⚠️ /home/comp2/vineyards-1/train/images/19crop_png_jpg.rf.23fa6f88e8969a6d971a9fe01f69615d.jpg: ignoring corrupt image/label: non-normalized or out of bounds coordinates [     1.0245      1.0297      1.0309]\n",
      "\u001b[34m\u001b[1mtrain: \u001b[0mWARNING ⚠️ /home/comp2/vineyards-1/train/images/19crop_png_jpg.rf.282effbb8760e58bf50871eed6a871b2.jpg: ignoring corrupt image/label: non-normalized or out of bounds coordinates [     1.0148]\n",
      "\u001b[34m\u001b[1mtrain: \u001b[0mWARNING ⚠️ /home/comp2/vineyards-1/train/images/19crop_png_jpg.rf.363011d331ea91a3099852aab2238b37.jpg: ignoring corrupt image/label: non-normalized or out of bounds coordinates [     1.0243      1.0121]\n",
      "\u001b[34m\u001b[1mtrain: \u001b[0mWARNING ⚠️ /home/comp2/vineyards-1/train/images/19crop_png_jpg.rf.4471b7dce8f7703ddb326a1197744a3b.jpg: ignoring corrupt image/label: non-normalized or out of bounds coordinates [     1.0312      1.0247]\n",
      "\u001b[34m\u001b[1mtrain: \u001b[0mWARNING ⚠️ /home/comp2/vineyards-1/train/images/19crop_png_jpg.rf.4e5abcef38751b0e1bcf9b4f99227309.jpg: ignoring corrupt image/label: non-normalized or out of bounds coordinates [     1.0317      1.0249]\n",
      "\u001b[34m\u001b[1mtrain: \u001b[0mWARNING ⚠️ /home/comp2/vineyards-1/train/images/19crop_png_jpg.rf.5dc5eebffbc278ca80dc9a6c0913b18c.jpg: ignoring corrupt image/label: non-normalized or out of bounds coordinates [     1.0277      1.0111]\n",
      "\u001b[34m\u001b[1mtrain: \u001b[0mWARNING ⚠️ /home/comp2/vineyards-1/train/images/19crop_png_jpg.rf.6a680fd7146f1a78f3f1fd3406c6527b.jpg: ignoring corrupt image/label: non-normalized or out of bounds coordinates [     1.0277      1.0111]\n",
      "\u001b[34m\u001b[1mtrain: \u001b[0mWARNING ⚠️ /home/comp2/vineyards-1/train/images/19crop_png_jpg.rf.6b2ab61b12ed6bfc46c61ce7cc0759a2.jpg: ignoring corrupt image/label: non-normalized or out of bounds coordinates [     1.0271      1.0143]\n",
      "\u001b[34m\u001b[1mtrain: \u001b[0mWARNING ⚠️ /home/comp2/vineyards-1/train/images/19crop_png_jpg.rf.7dafe14a3533fd1053934e7c4d991b80.jpg: ignoring corrupt image/label: non-normalized or out of bounds coordinates [     1.0315      1.0247]\n",
      "\u001b[34m\u001b[1mtrain: \u001b[0mWARNING ⚠️ /home/comp2/vineyards-1/train/images/19crop_png_jpg.rf.9150e80a6802100d113f1e99ecc1d306.jpg: ignoring corrupt image/label: non-normalized or out of bounds coordinates [     1.0269      1.0325      1.0308]\n",
      "\u001b[34m\u001b[1mtrain: \u001b[0mWARNING ⚠️ /home/comp2/vineyards-1/train/images/19crop_png_jpg.rf.9bfa5ce4f654a2b0beb87b744e3291ff.jpg: ignoring corrupt image/label: non-normalized or out of bounds coordinates [     1.0272      1.0237]\n",
      "\u001b[34m\u001b[1mtrain: \u001b[0mWARNING ⚠️ /home/comp2/vineyards-1/train/images/19crop_png_jpg.rf.c30d2ae77520472cb876bfbfeb346844.jpg: ignoring corrupt image/label: non-normalized or out of bounds coordinates [      1.028      1.0256]\n",
      "\u001b[34m\u001b[1mtrain: \u001b[0mWARNING ⚠️ /home/comp2/vineyards-1/train/images/19crop_png_jpg.rf.d433a07eb8dc15f6bdc5bb7701e0c21e.jpg: ignoring corrupt image/label: non-normalized or out of bounds coordinates [     1.0199]\n",
      "\u001b[34m\u001b[1mtrain: \u001b[0mWARNING ⚠️ /home/comp2/vineyards-1/train/images/19crop_png_jpg.rf.d62099af8c4c0b759119a6adb83748b1.jpg: ignoring corrupt image/label: non-normalized or out of bounds coordinates [     1.0172]\n",
      "\u001b[34m\u001b[1mtrain: \u001b[0mWARNING ⚠️ /home/comp2/vineyards-1/train/images/20crop_png_jpg.rf.007f3f46c0803c11fabd4ed03629548d.jpg: ignoring corrupt image/label: non-normalized or out of bounds coordinates [     1.0162]\n",
      "\u001b[34m\u001b[1mtrain: \u001b[0mWARNING ⚠️ /home/comp2/vineyards-1/train/images/20crop_png_jpg.rf.013321c909dfe2da0e9ae2f48350b00b.jpg: ignoring corrupt image/label: non-normalized or out of bounds coordinates [     1.0257      1.0213]\n",
      "\u001b[34m\u001b[1mtrain: \u001b[0mWARNING ⚠️ /home/comp2/vineyards-1/train/images/20crop_png_jpg.rf.05774545e30fabda38833a86d8bd45a9.jpg: ignoring corrupt image/label: non-normalized or out of bounds coordinates [     1.0116      1.0161]\n",
      "\u001b[34m\u001b[1mtrain: \u001b[0mWARNING ⚠️ /home/comp2/vineyards-1/train/images/20crop_png_jpg.rf.0838866bc555502331d62041b32ac23a.jpg: ignoring corrupt image/label: non-normalized or out of bounds coordinates [       1.01]\n",
      "\u001b[34m\u001b[1mtrain: \u001b[0mWARNING ⚠️ /home/comp2/vineyards-1/train/images/20crop_png_jpg.rf.0ac8e629f14ddd4d35bc4f8c61183b6c.jpg: ignoring corrupt image/label: non-normalized or out of bounds coordinates [     1.0266      1.0366]\n",
      "\u001b[34m\u001b[1mtrain: \u001b[0mWARNING ⚠️ /home/comp2/vineyards-1/train/images/20crop_png_jpg.rf.11d064527656074f63ecfbb220d2ab86.jpg: ignoring corrupt image/label: non-normalized or out of bounds coordinates [     1.0162]\n",
      "\u001b[34m\u001b[1mtrain: \u001b[0mWARNING ⚠️ /home/comp2/vineyards-1/train/images/20crop_png_jpg.rf.169f78b60b1f95b6e14460d2ea1d3bb8.jpg: ignoring corrupt image/label: non-normalized or out of bounds coordinates [     1.0292]\n",
      "\u001b[34m\u001b[1mtrain: \u001b[0mWARNING ⚠️ /home/comp2/vineyards-1/train/images/20crop_png_jpg.rf.1cafffe2bace47264a8f6ae5d21b19ba.jpg: ignoring corrupt image/label: non-normalized or out of bounds coordinates [     1.0019]\n",
      "\u001b[34m\u001b[1mtrain: \u001b[0mWARNING ⚠️ /home/comp2/vineyards-1/train/images/20crop_png_jpg.rf.1f2cae34f30e17d4b1249043fd3a6ef4.jpg: ignoring corrupt image/label: non-normalized or out of bounds coordinates [     1.0048       1.027]\n",
      "\u001b[34m\u001b[1mtrain: \u001b[0mWARNING ⚠️ /home/comp2/vineyards-1/train/images/20crop_png_jpg.rf.276d48ac88171762792a8a465d758d26.jpg: ignoring corrupt image/label: non-normalized or out of bounds coordinates [     1.0166      1.0067]\n",
      "\u001b[34m\u001b[1mtrain: \u001b[0mWARNING ⚠️ /home/comp2/vineyards-1/train/images/20crop_png_jpg.rf.2ff9a2b5245dc2d5231eceb31924ba3e.jpg: ignoring corrupt image/label: non-normalized or out of bounds coordinates [     1.0158]\n",
      "\u001b[34m\u001b[1mtrain: \u001b[0mWARNING ⚠️ /home/comp2/vineyards-1/train/images/20crop_png_jpg.rf.38325c95caf148b17327a6490b9c22ad.jpg: ignoring corrupt image/label: non-normalized or out of bounds coordinates [      1.029      1.0033]\n",
      "\u001b[34m\u001b[1mtrain: \u001b[0mWARNING ⚠️ /home/comp2/vineyards-1/train/images/20crop_png_jpg.rf.3bd27cb99021203b2368996d03c0c387.jpg: ignoring corrupt image/label: non-normalized or out of bounds coordinates [     1.0006]\n",
      "\u001b[34m\u001b[1mtrain: \u001b[0mWARNING ⚠️ /home/comp2/vineyards-1/train/images/20crop_png_jpg.rf.3d7dd9c7af9ce5f052d9ca408e121714.jpg: ignoring corrupt image/label: non-normalized or out of bounds coordinates [     1.0141      1.0024]\n",
      "\u001b[34m\u001b[1mtrain: \u001b[0mWARNING ⚠️ /home/comp2/vineyards-1/train/images/20crop_png_jpg.rf.400f6b6c2c2fd403fc27203978d97cb9.jpg: ignoring corrupt image/label: non-normalized or out of bounds coordinates [     1.0181      1.0201]\n",
      "\u001b[34m\u001b[1mtrain: \u001b[0mWARNING ⚠️ /home/comp2/vineyards-1/train/images/20crop_png_jpg.rf.559fb38ba34afcb950f0141a980cb62c.jpg: ignoring corrupt image/label: non-normalized or out of bounds coordinates [     1.0135]\n",
      "\u001b[34m\u001b[1mtrain: \u001b[0mWARNING ⚠️ /home/comp2/vineyards-1/train/images/20crop_png_jpg.rf.57c49da933855d1668c9146cc8b5f40d.jpg: ignoring corrupt image/label: non-normalized or out of bounds coordinates [     1.0264]\n",
      "\u001b[34m\u001b[1mtrain: \u001b[0mWARNING ⚠️ /home/comp2/vineyards-1/train/images/20crop_png_jpg.rf.57e325cd079c4fe2b8521c9fe20c83ad.jpg: ignoring corrupt image/label: non-normalized or out of bounds coordinates [      1.027      1.0371]\n",
      "\u001b[34m\u001b[1mtrain: \u001b[0mWARNING ⚠️ /home/comp2/vineyards-1/train/images/20crop_png_jpg.rf.5d52830d6f405db4d1449e98c6d5efe7.jpg: ignoring corrupt image/label: non-normalized or out of bounds coordinates [     1.0074      1.0263]\n",
      "\u001b[34m\u001b[1mtrain: \u001b[0mWARNING ⚠️ /home/comp2/vineyards-1/train/images/20crop_png_jpg.rf.6016a70b358c9b1e34117a9be417a8df.jpg: ignoring corrupt image/label: non-normalized or out of bounds coordinates [     1.0135]\n",
      "\u001b[34m\u001b[1mtrain: \u001b[0mWARNING ⚠️ /home/comp2/vineyards-1/train/images/20crop_png_jpg.rf.6056c41b035316504af999815a9b1f81.jpg: ignoring corrupt image/label: non-normalized or out of bounds coordinates [     1.0189]\n",
      "\u001b[34m\u001b[1mtrain: \u001b[0mWARNING ⚠️ /home/comp2/vineyards-1/train/images/20crop_png_jpg.rf.6b4e54ac4fc22fa37e462b1379b65a7a.jpg: ignoring corrupt image/label: non-normalized or out of bounds coordinates [     1.0039]\n",
      "\u001b[34m\u001b[1mtrain: \u001b[0mWARNING ⚠️ /home/comp2/vineyards-1/train/images/20crop_png_jpg.rf.6dfe15c398160df8ea74f8350cdd3277.jpg: ignoring corrupt image/label: non-normalized or out of bounds coordinates [     1.0158      1.0244]\n",
      "\u001b[34m\u001b[1mtrain: \u001b[0mWARNING ⚠️ /home/comp2/vineyards-1/train/images/20crop_png_jpg.rf.7a0082c698f467cb0ce88cbd5ee55c01.jpg: ignoring corrupt image/label: non-normalized or out of bounds coordinates [      1.019      1.0227]\n",
      "\u001b[34m\u001b[1mtrain: \u001b[0mWARNING ⚠️ /home/comp2/vineyards-1/train/images/20crop_png_jpg.rf.7c2a9b3b8df994ea3a92f14533da7c48.jpg: ignoring corrupt image/label: non-normalized or out of bounds coordinates [     1.0029]\n",
      "\u001b[34m\u001b[1mtrain: \u001b[0mWARNING ⚠️ /home/comp2/vineyards-1/train/images/20crop_png_jpg.rf.7dc4c73b8f5995a122846634e5c0e550.jpg: ignoring corrupt image/label: non-normalized or out of bounds coordinates [     1.0262]\n",
      "\u001b[34m\u001b[1mtrain: \u001b[0mWARNING ⚠️ /home/comp2/vineyards-1/train/images/20crop_png_jpg.rf.8305df6f64fd4ddcadb41ccd5adcb4ed.jpg: ignoring corrupt image/label: non-normalized or out of bounds coordinates [     1.0263      1.0293]\n",
      "\u001b[34m\u001b[1mtrain: \u001b[0mWARNING ⚠️ /home/comp2/vineyards-1/train/images/20crop_png_jpg.rf.8c893a1fd4734cf5a026b19f21ab29e2.jpg: ignoring corrupt image/label: non-normalized or out of bounds coordinates [     1.0162]\n",
      "\u001b[34m\u001b[1mtrain: \u001b[0mWARNING ⚠️ /home/comp2/vineyards-1/train/images/20crop_png_jpg.rf.8e61be83fd0db377b4178e59131249db.jpg: ignoring corrupt image/label: non-normalized or out of bounds coordinates [     1.0285]\n",
      "\u001b[34m\u001b[1mtrain: \u001b[0mWARNING ⚠️ /home/comp2/vineyards-1/train/images/20crop_png_jpg.rf.970bbee7ae5dd080bda1c0addfb47abe.jpg: ignoring corrupt image/label: non-normalized or out of bounds coordinates [     1.0118]\n",
      "\u001b[34m\u001b[1mtrain: \u001b[0mWARNING ⚠️ /home/comp2/vineyards-1/train/images/20crop_png_jpg.rf.9a313fbcc073eb23619d3df876c9bd12.jpg: ignoring corrupt image/label: non-normalized or out of bounds coordinates [     1.0215]\n",
      "\u001b[34m\u001b[1mtrain: \u001b[0mWARNING ⚠️ /home/comp2/vineyards-1/train/images/20crop_png_jpg.rf.9ff7c9eda5202f06ef8a42ee915baaa9.jpg: ignoring corrupt image/label: non-normalized or out of bounds coordinates [     1.0079]\n",
      "\u001b[34m\u001b[1mtrain: \u001b[0mWARNING ⚠️ /home/comp2/vineyards-1/train/images/20crop_png_jpg.rf.ae2329b9135f26b9e22368d8c9aa9e79.jpg: ignoring corrupt image/label: non-normalized or out of bounds coordinates [     1.0162]\n",
      "\u001b[34m\u001b[1mtrain: \u001b[0mWARNING ⚠️ /home/comp2/vineyards-1/train/images/20crop_png_jpg.rf.b9802c8905a9e7a87a8b4eab6c34c8a4.jpg: ignoring corrupt image/label: non-normalized or out of bounds coordinates [     1.0082]\n",
      "\u001b[34m\u001b[1mtrain: \u001b[0mWARNING ⚠️ /home/comp2/vineyards-1/train/images/20crop_png_jpg.rf.c57726e702519c6110408616d21d8009.jpg: ignoring corrupt image/label: non-normalized or out of bounds coordinates [     1.0006      1.0165]\n",
      "\u001b[34m\u001b[1mtrain: \u001b[0mWARNING ⚠️ /home/comp2/vineyards-1/train/images/20crop_png_jpg.rf.c61518444fea773639ee78e340e22129.jpg: ignoring corrupt image/label: non-normalized or out of bounds coordinates [     1.0175]\n",
      "\u001b[34m\u001b[1mtrain: \u001b[0mWARNING ⚠️ /home/comp2/vineyards-1/train/images/20crop_png_jpg.rf.c6548b6785e816af4cd2b95b499509a4.jpg: ignoring corrupt image/label: non-normalized or out of bounds coordinates [     1.0158]\n",
      "\u001b[34m\u001b[1mtrain: \u001b[0mWARNING ⚠️ /home/comp2/vineyards-1/train/images/20crop_png_jpg.rf.c720863b84fc68da9e2d2e2139cf9f5e.jpg: ignoring corrupt image/label: non-normalized or out of bounds coordinates [      1.004]\n",
      "\u001b[34m\u001b[1mtrain: \u001b[0mWARNING ⚠️ /home/comp2/vineyards-1/train/images/20crop_png_jpg.rf.ce2f7b80132f668373904e52f0056eab.jpg: ignoring corrupt image/label: non-normalized or out of bounds coordinates [     1.0177      1.0257]\n",
      "\u001b[34m\u001b[1mtrain: \u001b[0mWARNING ⚠️ /home/comp2/vineyards-1/train/images/20crop_png_jpg.rf.ce6d0c4e76a3c60f8485b3d334bad73e.jpg: ignoring corrupt image/label: non-normalized or out of bounds coordinates [     1.0239      1.0307]\n",
      "\u001b[34m\u001b[1mtrain: \u001b[0mWARNING ⚠️ /home/comp2/vineyards-1/train/images/20crop_png_jpg.rf.d11eef3eecbc285d906313a0a111986c.jpg: ignoring corrupt image/label: non-normalized or out of bounds coordinates [     1.0132      1.0045]\n",
      "\u001b[34m\u001b[1mtrain: \u001b[0mWARNING ⚠️ /home/comp2/vineyards-1/train/images/20crop_png_jpg.rf.d1a2bb73545dfd5f63e94704c0e50542.jpg: ignoring corrupt image/label: non-normalized or out of bounds coordinates [      1.004]\n",
      "\u001b[34m\u001b[1mtrain: \u001b[0mWARNING ⚠️ /home/comp2/vineyards-1/train/images/20crop_png_jpg.rf.dc0a74bd9623758a663c0e9b4c9eb181.jpg: ignoring corrupt image/label: non-normalized or out of bounds coordinates [     1.0116      1.0161]\n",
      "\u001b[34m\u001b[1mtrain: \u001b[0mWARNING ⚠️ /home/comp2/vineyards-1/train/images/20crop_png_jpg.rf.dc125a11300b7da98811aa209c20def9.jpg: ignoring corrupt image/label: non-normalized or out of bounds coordinates [     1.0182]\n",
      "\u001b[34m\u001b[1mtrain: \u001b[0mWARNING ⚠️ /home/comp2/vineyards-1/train/images/20crop_png_jpg.rf.e5b7c3a03ca10713c5076d519d11a093.jpg: ignoring corrupt image/label: non-normalized or out of bounds coordinates [     1.0054]\n",
      "\u001b[34m\u001b[1mtrain: \u001b[0mWARNING ⚠️ /home/comp2/vineyards-1/train/images/20crop_png_jpg.rf.e6fd373c56125b6e62a0710089efcd89.jpg: ignoring corrupt image/label: non-normalized or out of bounds coordinates [     1.0292]\n",
      "\u001b[34m\u001b[1mtrain: \u001b[0mWARNING ⚠️ /home/comp2/vineyards-1/train/images/20crop_png_jpg.rf.edb7501417b44e617c52aca26a3fca32.jpg: ignoring corrupt image/label: non-normalized or out of bounds coordinates [     1.0232]\n",
      "\u001b[34m\u001b[1mtrain: \u001b[0mWARNING ⚠️ /home/comp2/vineyards-1/train/images/20crop_png_jpg.rf.ee51a5f9b57ee784da622ddb4b2f057f.jpg: ignoring corrupt image/label: non-normalized or out of bounds coordinates [     1.0155      1.0175]\n",
      "\u001b[34m\u001b[1mtrain: \u001b[0mWARNING ⚠️ /home/comp2/vineyards-1/train/images/20crop_png_jpg.rf.eed87f34fc11b61ae125623e3ba0d6e6.jpg: ignoring corrupt image/label: non-normalized or out of bounds coordinates [     1.0101]\n",
      "\u001b[34m\u001b[1mtrain: \u001b[0mWARNING ⚠️ /home/comp2/vineyards-1/train/images/20crop_png_jpg.rf.ffea08bd5af313f14a0324a8b3517979.jpg: ignoring corrupt image/label: non-normalized or out of bounds coordinates [      1.012      1.0011]\n",
      "\u001b[34m\u001b[1malbumentations: \u001b[0mBlur(p=0.01, blur_limit=(3, 7)), MedianBlur(p=0.01, blur_limit=(3, 7)), ToGray(p=0.01), CLAHE(p=0.01, clip_limit=(1, 4.0), tile_grid_size=(8, 8))\n"
     ]
    },
    {
     "name": "stderr",
     "output_type": "stream",
     "text": [
      "\n",
      "\u001b[34m\u001b[1mval: \u001b[0mScanning /home/comp2/vineyards-1/valid/labels.cache... 15 images, 0 backgrounds, 3 corrupt: 100%|██████████| 15/15 [00:00<?, ?it/s]"
     ]
    },
    {
     "name": "stdout",
     "output_type": "stream",
     "text": [
      "\u001b[34m\u001b[1mval: \u001b[0mWARNING ⚠️ /home/comp2/vineyards-1/valid/images/20crop_png_jpg.rf.4334fc4b1e5583b8cdf9634dae2d9e94.jpg: ignoring corrupt image/label: non-normalized or out of bounds coordinates [     1.0101]\n",
      "\u001b[34m\u001b[1mval: \u001b[0mWARNING ⚠️ /home/comp2/vineyards-1/valid/images/20crop_png_jpg.rf.b1a03e35a14c48a9e08e0ef08d3f35fe.jpg: ignoring corrupt image/label: non-normalized or out of bounds coordinates [      1.011       1.006]\n",
      "\u001b[34m\u001b[1mval: \u001b[0mWARNING ⚠️ /home/comp2/vineyards-1/valid/images/20crop_png_jpg.rf.d1618fd32f6be7d916ecc6b41bbe0d55.jpg: ignoring corrupt image/label: non-normalized or out of bounds coordinates [      1.004]\n"
     ]
    },
    {
     "name": "stderr",
     "output_type": "stream",
     "text": [
      "\n"
     ]
    },
    {
     "name": "stdout",
     "output_type": "stream",
     "text": [
      "Plotting labels to runs/segment/train23/labels.jpg... \n",
      "\u001b[34m\u001b[1moptimizer:\u001b[0m 'optimizer=auto' found, ignoring 'lr0=0.01' and 'momentum=0.937' and determining best 'optimizer', 'lr0' and 'momentum' automatically... \n",
      "\u001b[34m\u001b[1moptimizer:\u001b[0m AdamW(lr=0.002, momentum=0.9) with parameter groups 66 weight(decay=0.0), 77 weight(decay=0.0005), 76 bias(decay=0.0)\n",
      "Image sizes 640 train, 640 val\n",
      "Using 8 dataloader workers\n",
      "Logging results to \u001b[1mruns/segment/train23\u001b[0m\n",
      "Starting training for 50 epochs...\n",
      "\n",
      "      Epoch    GPU_mem   box_loss   seg_loss   cls_loss   dfl_loss  Instances       Size\n"
     ]
    },
    {
     "name": "stderr",
     "output_type": "stream",
     "text": [
      "       1/50      6.41G      2.264      4.188      2.995      1.848        762        640: 100%|██████████| 18/18 [00:02<00:00,  7.91it/s]\n",
      "                 Class     Images  Instances      Box(P          R      mAP50  mAP50-95)     Mask(P          R      mAP50  mAP50-95): 100%|██████████| 1/1 [00:00<00:00,  7.38it/s]"
     ]
    },
    {
     "name": "stdout",
     "output_type": "stream",
     "text": [
      "                   all         12        460      0.104      0.811      0.393      0.177      0.106      0.833      0.443      0.158\n"
     ]
    },
    {
     "name": "stderr",
     "output_type": "stream",
     "text": [
      "\n"
     ]
    },
    {
     "name": "stdout",
     "output_type": "stream",
     "text": [
      "\n",
      "      Epoch    GPU_mem   box_loss   seg_loss   cls_loss   dfl_loss  Instances       Size\n"
     ]
    },
    {
     "name": "stderr",
     "output_type": "stream",
     "text": [
      "       2/50      6.33G      1.875      2.924      1.612      1.447        880        640: 100%|██████████| 18/18 [00:01<00:00, 11.50it/s]\n",
      "                 Class     Images  Instances      Box(P          R      mAP50  mAP50-95)     Mask(P          R      mAP50  mAP50-95): 100%|██████████| 1/1 [00:00<00:00, 20.15it/s]"
     ]
    },
    {
     "name": "stdout",
     "output_type": "stream",
     "text": [
      "                   all         12        460      0.624      0.667      0.626      0.293      0.626      0.669      0.623      0.239\n"
     ]
    },
    {
     "name": "stderr",
     "output_type": "stream",
     "text": [
      "\n"
     ]
    },
    {
     "name": "stdout",
     "output_type": "stream",
     "text": [
      "\n",
      "      Epoch    GPU_mem   box_loss   seg_loss   cls_loss   dfl_loss  Instances       Size\n"
     ]
    },
    {
     "name": "stderr",
     "output_type": "stream",
     "text": [
      "       3/50      5.66G      1.752      2.713      1.312      1.406        966        640: 100%|██████████| 18/18 [00:01<00:00, 11.40it/s]\n",
      "                 Class     Images  Instances      Box(P          R      mAP50  mAP50-95)     Mask(P          R      mAP50  mAP50-95): 100%|██████████| 1/1 [00:00<00:00, 21.56it/s]"
     ]
    },
    {
     "name": "stdout",
     "output_type": "stream",
     "text": [
      "                   all         12        460      0.547      0.678      0.566      0.294      0.528      0.652      0.511      0.179\n"
     ]
    },
    {
     "name": "stderr",
     "output_type": "stream",
     "text": [
      "\n"
     ]
    },
    {
     "name": "stdout",
     "output_type": "stream",
     "text": [
      "\n",
      "      Epoch    GPU_mem   box_loss   seg_loss   cls_loss   dfl_loss  Instances       Size\n"
     ]
    },
    {
     "name": "stderr",
     "output_type": "stream",
     "text": [
      "       4/50      6.17G      1.703       2.66      1.229      1.369       1042        640: 100%|██████████| 18/18 [00:01<00:00, 11.56it/s]\n",
      "                 Class     Images  Instances      Box(P          R      mAP50  mAP50-95)     Mask(P          R      mAP50  mAP50-95): 100%|██████████| 1/1 [00:00<00:00, 20.85it/s]"
     ]
    },
    {
     "name": "stdout",
     "output_type": "stream",
     "text": [
      "                   all         12        460      0.633      0.676      0.651      0.345      0.598      0.647      0.584       0.22\n"
     ]
    },
    {
     "name": "stderr",
     "output_type": "stream",
     "text": [
      "\n"
     ]
    },
    {
     "name": "stdout",
     "output_type": "stream",
     "text": [
      "\n",
      "      Epoch    GPU_mem   box_loss   seg_loss   cls_loss   dfl_loss  Instances       Size\n"
     ]
    },
    {
     "name": "stderr",
     "output_type": "stream",
     "text": [
      "       5/50      6.56G      1.655      2.626      1.209       1.36        926        640: 100%|██████████| 18/18 [00:01<00:00, 11.93it/s]\n",
      "                 Class     Images  Instances      Box(P          R      mAP50  mAP50-95)     Mask(P          R      mAP50  mAP50-95): 100%|██████████| 1/1 [00:00<00:00, 21.64it/s]"
     ]
    },
    {
     "name": "stdout",
     "output_type": "stream",
     "text": [
      "                   all         12        460      0.638      0.624      0.609        0.3      0.637      0.618      0.595      0.207\n"
     ]
    },
    {
     "name": "stderr",
     "output_type": "stream",
     "text": [
      "\n"
     ]
    },
    {
     "name": "stdout",
     "output_type": "stream",
     "text": [
      "\n",
      "      Epoch    GPU_mem   box_loss   seg_loss   cls_loss   dfl_loss  Instances       Size\n"
     ]
    },
    {
     "name": "stderr",
     "output_type": "stream",
     "text": [
      "       6/50      6.45G      1.643       2.58      1.184      1.346        959        640: 100%|██████████| 18/18 [00:01<00:00, 11.65it/s]\n",
      "                 Class     Images  Instances      Box(P          R      mAP50  mAP50-95)     Mask(P          R      mAP50  mAP50-95): 100%|██████████| 1/1 [00:00<00:00, 21.49it/s]"
     ]
    },
    {
     "name": "stdout",
     "output_type": "stream",
     "text": [
      "                   all         12        460      0.707      0.668       0.71      0.353      0.739      0.683      0.726       0.28\n"
     ]
    },
    {
     "name": "stderr",
     "output_type": "stream",
     "text": [
      "\n"
     ]
    },
    {
     "name": "stdout",
     "output_type": "stream",
     "text": [
      "\n",
      "      Epoch    GPU_mem   box_loss   seg_loss   cls_loss   dfl_loss  Instances       Size\n"
     ]
    },
    {
     "name": "stderr",
     "output_type": "stream",
     "text": [
      "       7/50      6.32G      1.605      2.538      1.168      1.328        771        640: 100%|██████████| 18/18 [00:01<00:00, 11.93it/s]\n",
      "                 Class     Images  Instances      Box(P          R      mAP50  mAP50-95)     Mask(P          R      mAP50  mAP50-95): 100%|██████████| 1/1 [00:00<00:00, 20.76it/s]"
     ]
    },
    {
     "name": "stdout",
     "output_type": "stream",
     "text": [
      "                   all         12        460      0.564      0.663       0.59      0.314      0.518      0.637      0.515      0.206\n"
     ]
    },
    {
     "name": "stderr",
     "output_type": "stream",
     "text": [
      "\n"
     ]
    },
    {
     "name": "stdout",
     "output_type": "stream",
     "text": [
      "\n",
      "      Epoch    GPU_mem   box_loss   seg_loss   cls_loss   dfl_loss  Instances       Size\n"
     ]
    },
    {
     "name": "stderr",
     "output_type": "stream",
     "text": [
      "       8/50      6.01G       1.59      2.516      1.149       1.32        711        640: 100%|██████████| 18/18 [00:01<00:00, 11.88it/s]\n",
      "                 Class     Images  Instances      Box(P          R      mAP50  mAP50-95)     Mask(P          R      mAP50  mAP50-95): 100%|██████████| 1/1 [00:00<00:00, 19.40it/s]"
     ]
    },
    {
     "name": "stdout",
     "output_type": "stream",
     "text": [
      "                   all         12        460      0.655      0.796       0.75      0.405      0.672      0.792      0.753      0.332\n"
     ]
    },
    {
     "name": "stderr",
     "output_type": "stream",
     "text": [
      "\n"
     ]
    },
    {
     "name": "stdout",
     "output_type": "stream",
     "text": [
      "\n",
      "      Epoch    GPU_mem   box_loss   seg_loss   cls_loss   dfl_loss  Instances       Size\n"
     ]
    },
    {
     "name": "stderr",
     "output_type": "stream",
     "text": [
      "       9/50      5.38G      1.594      2.501      1.154      1.327        909        640: 100%|██████████| 18/18 [00:01<00:00, 12.39it/s]\n",
      "                 Class     Images  Instances      Box(P          R      mAP50  mAP50-95)     Mask(P          R      mAP50  mAP50-95): 100%|██████████| 1/1 [00:00<00:00, 19.73it/s]"
     ]
    },
    {
     "name": "stdout",
     "output_type": "stream",
     "text": [
      "                   all         12        460      0.637      0.741      0.677      0.367      0.658       0.75      0.688      0.287\n"
     ]
    },
    {
     "name": "stderr",
     "output_type": "stream",
     "text": [
      "\n"
     ]
    },
    {
     "name": "stdout",
     "output_type": "stream",
     "text": [
      "\n",
      "      Epoch    GPU_mem   box_loss   seg_loss   cls_loss   dfl_loss  Instances       Size\n"
     ]
    },
    {
     "name": "stderr",
     "output_type": "stream",
     "text": [
      "      10/50      5.88G      1.607      2.477      1.119      1.316        827        640: 100%|██████████| 18/18 [00:01<00:00, 11.69it/s]\n",
      "                 Class     Images  Instances      Box(P          R      mAP50  mAP50-95)     Mask(P          R      mAP50  mAP50-95): 100%|██████████| 1/1 [00:00<00:00, 20.47it/s]"
     ]
    },
    {
     "name": "stdout",
     "output_type": "stream",
     "text": [
      "                   all         12        460       0.74      0.794       0.79      0.447       0.76      0.757      0.785      0.346\n"
     ]
    },
    {
     "name": "stderr",
     "output_type": "stream",
     "text": [
      "\n"
     ]
    },
    {
     "name": "stdout",
     "output_type": "stream",
     "text": [
      "\n",
      "      Epoch    GPU_mem   box_loss   seg_loss   cls_loss   dfl_loss  Instances       Size\n"
     ]
    },
    {
     "name": "stderr",
     "output_type": "stream",
     "text": [
      "      11/50      6.73G      1.564      2.445      1.088      1.289        995        640: 100%|██████████| 18/18 [00:01<00:00, 11.66it/s]\n",
      "                 Class     Images  Instances      Box(P          R      mAP50  mAP50-95)     Mask(P          R      mAP50  mAP50-95): 100%|██████████| 1/1 [00:00<00:00, 20.81it/s]"
     ]
    },
    {
     "name": "stdout",
     "output_type": "stream",
     "text": [
      "                   all         12        460      0.712       0.77      0.772      0.439      0.735      0.785      0.791      0.347\n"
     ]
    },
    {
     "name": "stderr",
     "output_type": "stream",
     "text": [
      "\n"
     ]
    },
    {
     "name": "stdout",
     "output_type": "stream",
     "text": [
      "\n",
      "      Epoch    GPU_mem   box_loss   seg_loss   cls_loss   dfl_loss  Instances       Size\n"
     ]
    },
    {
     "name": "stderr",
     "output_type": "stream",
     "text": [
      "      12/50      6.06G      1.535      2.415      1.079      1.278       1043        640: 100%|██████████| 18/18 [00:01<00:00, 11.70it/s]\n",
      "                 Class     Images  Instances      Box(P          R      mAP50  mAP50-95)     Mask(P          R      mAP50  mAP50-95): 100%|██████████| 1/1 [00:00<00:00, 20.39it/s]"
     ]
    },
    {
     "name": "stdout",
     "output_type": "stream",
     "text": [
      "                   all         12        460      0.806      0.796      0.836      0.484        0.8      0.778      0.801       0.36\n"
     ]
    },
    {
     "name": "stderr",
     "output_type": "stream",
     "text": [
      "\n"
     ]
    },
    {
     "name": "stdout",
     "output_type": "stream",
     "text": [
      "\n",
      "      Epoch    GPU_mem   box_loss   seg_loss   cls_loss   dfl_loss  Instances       Size\n"
     ]
    },
    {
     "name": "stderr",
     "output_type": "stream",
     "text": [
      "      13/50      5.73G      1.522      2.385      1.049       1.27        862        640: 100%|██████████| 18/18 [00:01<00:00, 11.59it/s]\n",
      "                 Class     Images  Instances      Box(P          R      mAP50  mAP50-95)     Mask(P          R      mAP50  mAP50-95): 100%|██████████| 1/1 [00:00<00:00, 20.45it/s]"
     ]
    },
    {
     "name": "stdout",
     "output_type": "stream",
     "text": [
      "                   all         12        460       0.78      0.765      0.822       0.46       0.78      0.765      0.816       0.37\n"
     ]
    },
    {
     "name": "stderr",
     "output_type": "stream",
     "text": [
      "\n"
     ]
    },
    {
     "name": "stdout",
     "output_type": "stream",
     "text": [
      "\n",
      "      Epoch    GPU_mem   box_loss   seg_loss   cls_loss   dfl_loss  Instances       Size\n"
     ]
    },
    {
     "name": "stderr",
     "output_type": "stream",
     "text": [
      "      14/50      6.01G      1.517      2.375      1.049      1.259        895        640: 100%|██████████| 18/18 [00:01<00:00, 11.63it/s]\n",
      "                 Class     Images  Instances      Box(P          R      mAP50  mAP50-95)     Mask(P          R      mAP50  mAP50-95): 100%|██████████| 1/1 [00:00<00:00, 18.24it/s]"
     ]
    },
    {
     "name": "stdout",
     "output_type": "stream",
     "text": [
      "                   all         12        460      0.772      0.774      0.805      0.447      0.765      0.772      0.783      0.341\n"
     ]
    },
    {
     "name": "stderr",
     "output_type": "stream",
     "text": [
      "\n"
     ]
    },
    {
     "name": "stdout",
     "output_type": "stream",
     "text": [
      "\n",
      "      Epoch    GPU_mem   box_loss   seg_loss   cls_loss   dfl_loss  Instances       Size\n"
     ]
    },
    {
     "name": "stderr",
     "output_type": "stream",
     "text": [
      "      15/50      7.29G      1.521      2.368      1.023      1.257        808        640: 100%|██████████| 18/18 [00:01<00:00, 11.64it/s]\n",
      "                 Class     Images  Instances      Box(P          R      mAP50  mAP50-95)     Mask(P          R      mAP50  mAP50-95): 100%|██████████| 1/1 [00:00<00:00, 20.49it/s]"
     ]
    },
    {
     "name": "stdout",
     "output_type": "stream",
     "text": [
      "                   all         12        460      0.765      0.765      0.779       0.43      0.781      0.768      0.784      0.354\n"
     ]
    },
    {
     "name": "stderr",
     "output_type": "stream",
     "text": [
      "\n"
     ]
    },
    {
     "name": "stdout",
     "output_type": "stream",
     "text": [
      "\n",
      "      Epoch    GPU_mem   box_loss   seg_loss   cls_loss   dfl_loss  Instances       Size\n"
     ]
    },
    {
     "name": "stderr",
     "output_type": "stream",
     "text": [
      "      16/50      5.32G       1.49      2.347      1.033      1.253       1045        640: 100%|██████████| 18/18 [00:01<00:00, 11.92it/s]\n",
      "                 Class     Images  Instances      Box(P          R      mAP50  mAP50-95)     Mask(P          R      mAP50  mAP50-95): 100%|██████████| 1/1 [00:00<00:00, 15.97it/s]"
     ]
    },
    {
     "name": "stdout",
     "output_type": "stream",
     "text": [
      "                   all         12        460      0.789      0.786      0.825      0.474      0.791      0.789      0.829      0.382\n"
     ]
    },
    {
     "name": "stderr",
     "output_type": "stream",
     "text": [
      "\n"
     ]
    },
    {
     "name": "stdout",
     "output_type": "stream",
     "text": [
      "\n",
      "      Epoch    GPU_mem   box_loss   seg_loss   cls_loss   dfl_loss  Instances       Size\n"
     ]
    },
    {
     "name": "stderr",
     "output_type": "stream",
     "text": [
      "      17/50      5.75G      1.498      2.346      1.024      1.257        892        640: 100%|██████████| 18/18 [00:01<00:00, 12.31it/s]\n",
      "                 Class     Images  Instances      Box(P          R      mAP50  mAP50-95)     Mask(P          R      mAP50  mAP50-95): 100%|██████████| 1/1 [00:00<00:00, 19.85it/s]"
     ]
    },
    {
     "name": "stdout",
     "output_type": "stream",
     "text": [
      "                   all         12        460      0.804      0.804      0.818      0.474      0.803        0.8      0.819      0.378\n"
     ]
    },
    {
     "name": "stderr",
     "output_type": "stream",
     "text": [
      "\n"
     ]
    },
    {
     "name": "stdout",
     "output_type": "stream",
     "text": [
      "\n",
      "      Epoch    GPU_mem   box_loss   seg_loss   cls_loss   dfl_loss  Instances       Size\n"
     ]
    },
    {
     "name": "stderr",
     "output_type": "stream",
     "text": [
      "      18/50      5.76G      1.469      2.339       1.01      1.252        836        640: 100%|██████████| 18/18 [00:01<00:00, 12.49it/s]\n",
      "                 Class     Images  Instances      Box(P          R      mAP50  mAP50-95)     Mask(P          R      mAP50  mAP50-95): 100%|██████████| 1/1 [00:00<00:00, 19.98it/s]"
     ]
    },
    {
     "name": "stdout",
     "output_type": "stream",
     "text": [
      "                   all         12        460      0.805      0.796      0.827      0.476      0.792      0.796      0.794      0.354\n"
     ]
    },
    {
     "name": "stderr",
     "output_type": "stream",
     "text": [
      "\n"
     ]
    },
    {
     "name": "stdout",
     "output_type": "stream",
     "text": [
      "\n",
      "      Epoch    GPU_mem   box_loss   seg_loss   cls_loss   dfl_loss  Instances       Size\n"
     ]
    },
    {
     "name": "stderr",
     "output_type": "stream",
     "text": [
      "      19/50      5.84G      1.476      2.321     0.9848      1.244       1163        640: 100%|██████████| 18/18 [00:01<00:00, 11.65it/s]\n",
      "                 Class     Images  Instances      Box(P          R      mAP50  mAP50-95)     Mask(P          R      mAP50  mAP50-95): 100%|██████████| 1/1 [00:00<00:00, 15.77it/s]"
     ]
    },
    {
     "name": "stdout",
     "output_type": "stream",
     "text": [
      "                   all         12        460      0.786      0.824       0.84      0.462       0.79      0.824      0.842       0.38\n"
     ]
    },
    {
     "name": "stderr",
     "output_type": "stream",
     "text": [
      "\n"
     ]
    },
    {
     "name": "stdout",
     "output_type": "stream",
     "text": [
      "\n",
      "      Epoch    GPU_mem   box_loss   seg_loss   cls_loss   dfl_loss  Instances       Size\n"
     ]
    },
    {
     "name": "stderr",
     "output_type": "stream",
     "text": [
      "      20/50      6.02G      1.471      2.308     0.9864      1.238        860        640: 100%|██████████| 18/18 [00:01<00:00, 12.06it/s]\n",
      "                 Class     Images  Instances      Box(P          R      mAP50  mAP50-95)     Mask(P          R      mAP50  mAP50-95): 100%|██████████| 1/1 [00:00<00:00, 20.42it/s]"
     ]
    },
    {
     "name": "stdout",
     "output_type": "stream",
     "text": [
      "                   all         12        460      0.813      0.826      0.857      0.496      0.793      0.833      0.856      0.412\n"
     ]
    },
    {
     "name": "stderr",
     "output_type": "stream",
     "text": [
      "\n"
     ]
    },
    {
     "name": "stdout",
     "output_type": "stream",
     "text": [
      "\n",
      "      Epoch    GPU_mem   box_loss   seg_loss   cls_loss   dfl_loss  Instances       Size\n"
     ]
    },
    {
     "name": "stderr",
     "output_type": "stream",
     "text": [
      "      21/50      6.11G      1.455      2.283     0.9695      1.225        927        640: 100%|██████████| 18/18 [00:01<00:00, 11.31it/s]\n",
      "                 Class     Images  Instances      Box(P          R      mAP50  mAP50-95)     Mask(P          R      mAP50  mAP50-95): 100%|██████████| 1/1 [00:00<00:00, 20.73it/s]"
     ]
    },
    {
     "name": "stdout",
     "output_type": "stream",
     "text": [
      "                   all         12        460      0.803      0.833       0.86      0.505      0.812      0.835      0.863      0.408\n"
     ]
    },
    {
     "name": "stderr",
     "output_type": "stream",
     "text": [
      "\n"
     ]
    },
    {
     "name": "stdout",
     "output_type": "stream",
     "text": [
      "\n",
      "      Epoch    GPU_mem   box_loss   seg_loss   cls_loss   dfl_loss  Instances       Size\n"
     ]
    },
    {
     "name": "stderr",
     "output_type": "stream",
     "text": [
      "      22/50      6.03G      1.452      2.288     0.9391      1.219        798        640: 100%|██████████| 18/18 [00:01<00:00, 11.64it/s]\n",
      "                 Class     Images  Instances      Box(P          R      mAP50  mAP50-95)     Mask(P          R      mAP50  mAP50-95): 100%|██████████| 1/1 [00:00<00:00, 21.32it/s]"
     ]
    },
    {
     "name": "stdout",
     "output_type": "stream",
     "text": [
      "                   all         12        460      0.788      0.789      0.838      0.479      0.806      0.804      0.848      0.408\n"
     ]
    },
    {
     "name": "stderr",
     "output_type": "stream",
     "text": [
      "\n"
     ]
    },
    {
     "name": "stdout",
     "output_type": "stream",
     "text": [
      "\n",
      "      Epoch    GPU_mem   box_loss   seg_loss   cls_loss   dfl_loss  Instances       Size\n"
     ]
    },
    {
     "name": "stderr",
     "output_type": "stream",
     "text": [
      "      23/50      5.97G      1.411      2.254      0.921      1.198       1046        640: 100%|██████████| 18/18 [00:01<00:00, 11.64it/s]\n",
      "                 Class     Images  Instances      Box(P          R      mAP50  mAP50-95)     Mask(P          R      mAP50  mAP50-95): 100%|██████████| 1/1 [00:00<00:00, 21.02it/s]"
     ]
    },
    {
     "name": "stdout",
     "output_type": "stream",
     "text": [
      "                   all         12        460      0.834      0.821      0.867      0.527      0.839      0.825      0.864      0.422\n"
     ]
    },
    {
     "name": "stderr",
     "output_type": "stream",
     "text": [
      "\n"
     ]
    },
    {
     "name": "stdout",
     "output_type": "stream",
     "text": [
      "\n",
      "      Epoch    GPU_mem   box_loss   seg_loss   cls_loss   dfl_loss  Instances       Size\n"
     ]
    },
    {
     "name": "stderr",
     "output_type": "stream",
     "text": [
      "      24/50      6.17G      1.403      2.221     0.9166      1.208       1034        640: 100%|██████████| 18/18 [00:01<00:00, 11.55it/s]\n",
      "                 Class     Images  Instances      Box(P          R      mAP50  mAP50-95)     Mask(P          R      mAP50  mAP50-95): 100%|██████████| 1/1 [00:00<00:00, 21.10it/s]"
     ]
    },
    {
     "name": "stdout",
     "output_type": "stream",
     "text": [
      "                   all         12        460      0.811      0.826      0.854      0.524      0.832      0.827      0.862      0.422\n"
     ]
    },
    {
     "name": "stderr",
     "output_type": "stream",
     "text": [
      "\n"
     ]
    },
    {
     "name": "stdout",
     "output_type": "stream",
     "text": [
      "\n",
      "      Epoch    GPU_mem   box_loss   seg_loss   cls_loss   dfl_loss  Instances       Size\n"
     ]
    },
    {
     "name": "stderr",
     "output_type": "stream",
     "text": [
      "      25/50      6.12G      1.394      2.204     0.9215       1.21        849        640: 100%|██████████| 18/18 [00:01<00:00, 12.30it/s]\n",
      "                 Class     Images  Instances      Box(P          R      mAP50  mAP50-95)     Mask(P          R      mAP50  mAP50-95): 100%|██████████| 1/1 [00:00<00:00, 20.83it/s]\n"
     ]
    },
    {
     "name": "stdout",
     "output_type": "stream",
     "text": [
      "                   all         12        460      0.829      0.826      0.875      0.532      0.828      0.846      0.879      0.408\n",
      "\n",
      "      Epoch    GPU_mem   box_loss   seg_loss   cls_loss   dfl_loss  Instances       Size\n"
     ]
    },
    {
     "name": "stderr",
     "output_type": "stream",
     "text": [
      "      26/50      6.28G      1.404      2.224     0.9016      1.198       1019        640: 100%|██████████| 18/18 [00:01<00:00, 11.80it/s]\n",
      "                 Class     Images  Instances      Box(P          R      mAP50  mAP50-95)     Mask(P          R      mAP50  mAP50-95): 100%|██████████| 1/1 [00:00<00:00, 17.90it/s]"
     ]
    },
    {
     "name": "stdout",
     "output_type": "stream",
     "text": [
      "                   all         12        460      0.819      0.814      0.857        0.5      0.829      0.828      0.862      0.412\n"
     ]
    },
    {
     "name": "stderr",
     "output_type": "stream",
     "text": [
      "\n"
     ]
    },
    {
     "name": "stdout",
     "output_type": "stream",
     "text": [
      "\n",
      "      Epoch    GPU_mem   box_loss   seg_loss   cls_loss   dfl_loss  Instances       Size\n"
     ]
    },
    {
     "name": "stderr",
     "output_type": "stream",
     "text": [
      "      27/50       5.8G      1.396       2.22     0.9033      1.204        998        640: 100%|██████████| 18/18 [00:01<00:00, 12.15it/s]\n",
      "                 Class     Images  Instances      Box(P          R      mAP50  mAP50-95)     Mask(P          R      mAP50  mAP50-95): 100%|██████████| 1/1 [00:00<00:00, 21.71it/s]"
     ]
    },
    {
     "name": "stdout",
     "output_type": "stream",
     "text": [
      "                   all         12        460       0.85      0.836      0.874      0.512      0.853      0.833      0.869      0.405\n"
     ]
    },
    {
     "name": "stderr",
     "output_type": "stream",
     "text": [
      "\n"
     ]
    },
    {
     "name": "stdout",
     "output_type": "stream",
     "text": [
      "\n",
      "      Epoch    GPU_mem   box_loss   seg_loss   cls_loss   dfl_loss  Instances       Size\n"
     ]
    },
    {
     "name": "stderr",
     "output_type": "stream",
     "text": [
      "      28/50      5.72G      1.376      2.177     0.8725      1.192        999        640: 100%|██████████| 18/18 [00:01<00:00, 11.76it/s]\n",
      "                 Class     Images  Instances      Box(P          R      mAP50  mAP50-95)     Mask(P          R      mAP50  mAP50-95): 100%|██████████| 1/1 [00:00<00:00, 20.96it/s]"
     ]
    },
    {
     "name": "stdout",
     "output_type": "stream",
     "text": [
      "                   all         12        460      0.853      0.848      0.886      0.515      0.853      0.843      0.876      0.422\n"
     ]
    },
    {
     "name": "stderr",
     "output_type": "stream",
     "text": [
      "\n"
     ]
    },
    {
     "name": "stdout",
     "output_type": "stream",
     "text": [
      "\n",
      "      Epoch    GPU_mem   box_loss   seg_loss   cls_loss   dfl_loss  Instances       Size\n"
     ]
    },
    {
     "name": "stderr",
     "output_type": "stream",
     "text": [
      "      29/50      5.77G      1.385      2.193     0.8641      1.183       1002        640: 100%|██████████| 18/18 [00:01<00:00, 11.60it/s]\n",
      "                 Class     Images  Instances      Box(P          R      mAP50  mAP50-95)     Mask(P          R      mAP50  mAP50-95): 100%|██████████| 1/1 [00:00<00:00, 21.51it/s]"
     ]
    },
    {
     "name": "stdout",
     "output_type": "stream",
     "text": [
      "                   all         12        460      0.802      0.863      0.879      0.525      0.795      0.857      0.871      0.432\n"
     ]
    },
    {
     "name": "stderr",
     "output_type": "stream",
     "text": [
      "\n"
     ]
    },
    {
     "name": "stdout",
     "output_type": "stream",
     "text": [
      "\n",
      "      Epoch    GPU_mem   box_loss   seg_loss   cls_loss   dfl_loss  Instances       Size\n"
     ]
    },
    {
     "name": "stderr",
     "output_type": "stream",
     "text": [
      "      30/50      6.04G      1.382      2.156     0.8573       1.18        881        640: 100%|██████████| 18/18 [00:01<00:00, 11.50it/s]\n",
      "                 Class     Images  Instances      Box(P          R      mAP50  mAP50-95)     Mask(P          R      mAP50  mAP50-95): 100%|██████████| 1/1 [00:00<00:00, 15.53it/s]"
     ]
    },
    {
     "name": "stdout",
     "output_type": "stream",
     "text": [
      "                   all         12        460      0.855      0.845      0.896      0.518       0.85      0.841      0.882      0.434\n"
     ]
    },
    {
     "name": "stderr",
     "output_type": "stream",
     "text": [
      "\n"
     ]
    },
    {
     "name": "stdout",
     "output_type": "stream",
     "text": [
      "\n",
      "      Epoch    GPU_mem   box_loss   seg_loss   cls_loss   dfl_loss  Instances       Size\n"
     ]
    },
    {
     "name": "stderr",
     "output_type": "stream",
     "text": [
      "      31/50      6.14G      1.362      2.131      0.838      1.178        949        640: 100%|██████████| 18/18 [00:01<00:00, 11.78it/s]\n",
      "                 Class     Images  Instances      Box(P          R      mAP50  mAP50-95)     Mask(P          R      mAP50  mAP50-95): 100%|██████████| 1/1 [00:00<00:00, 21.35it/s]"
     ]
    },
    {
     "name": "stdout",
     "output_type": "stream",
     "text": [
      "                   all         12        460       0.84      0.874        0.9      0.548      0.889      0.833      0.902      0.442\n"
     ]
    },
    {
     "name": "stderr",
     "output_type": "stream",
     "text": [
      "\n"
     ]
    },
    {
     "name": "stdout",
     "output_type": "stream",
     "text": [
      "\n",
      "      Epoch    GPU_mem   box_loss   seg_loss   cls_loss   dfl_loss  Instances       Size\n"
     ]
    },
    {
     "name": "stderr",
     "output_type": "stream",
     "text": [
      "      32/50       5.6G      1.345      2.126     0.8332      1.174        866        640: 100%|██████████| 18/18 [00:01<00:00, 11.79it/s]\n",
      "                 Class     Images  Instances      Box(P          R      mAP50  mAP50-95)     Mask(P          R      mAP50  mAP50-95): 100%|██████████| 1/1 [00:00<00:00, 21.01it/s]"
     ]
    },
    {
     "name": "stdout",
     "output_type": "stream",
     "text": [
      "                   all         12        460      0.866       0.85      0.897      0.558      0.868      0.852      0.895      0.446\n"
     ]
    },
    {
     "name": "stderr",
     "output_type": "stream",
     "text": [
      "\n"
     ]
    },
    {
     "name": "stdout",
     "output_type": "stream",
     "text": [
      "\n",
      "      Epoch    GPU_mem   box_loss   seg_loss   cls_loss   dfl_loss  Instances       Size\n"
     ]
    },
    {
     "name": "stderr",
     "output_type": "stream",
     "text": [
      "      33/50         6G      1.343      2.131     0.8413      1.166       1002        640: 100%|██████████| 18/18 [00:01<00:00, 11.85it/s]\n",
      "                 Class     Images  Instances      Box(P          R      mAP50  mAP50-95)     Mask(P          R      mAP50  mAP50-95): 100%|██████████| 1/1 [00:00<00:00, 17.61it/s]"
     ]
    },
    {
     "name": "stdout",
     "output_type": "stream",
     "text": [
      "                   all         12        460      0.867      0.854        0.9      0.556      0.871      0.857      0.892      0.437\n"
     ]
    },
    {
     "name": "stderr",
     "output_type": "stream",
     "text": [
      "\n"
     ]
    },
    {
     "name": "stdout",
     "output_type": "stream",
     "text": [
      "\n",
      "      Epoch    GPU_mem   box_loss   seg_loss   cls_loss   dfl_loss  Instances       Size\n"
     ]
    },
    {
     "name": "stderr",
     "output_type": "stream",
     "text": [
      "      34/50      5.56G      1.324      2.097     0.8184      1.154        872        640: 100%|██████████| 18/18 [00:01<00:00, 11.81it/s]\n",
      "                 Class     Images  Instances      Box(P          R      mAP50  mAP50-95)     Mask(P          R      mAP50  mAP50-95): 100%|██████████| 1/1 [00:00<00:00, 21.03it/s]"
     ]
    },
    {
     "name": "stdout",
     "output_type": "stream",
     "text": [
      "                   all         12        460      0.881      0.854      0.916      0.582      0.888      0.861      0.918      0.476\n"
     ]
    },
    {
     "name": "stderr",
     "output_type": "stream",
     "text": [
      "\n"
     ]
    },
    {
     "name": "stdout",
     "output_type": "stream",
     "text": [
      "\n",
      "      Epoch    GPU_mem   box_loss   seg_loss   cls_loss   dfl_loss  Instances       Size\n"
     ]
    },
    {
     "name": "stderr",
     "output_type": "stream",
     "text": [
      "      35/50      5.56G      1.322      2.102     0.8016      1.155        928        640: 100%|██████████| 18/18 [00:01<00:00, 11.91it/s]\n",
      "                 Class     Images  Instances      Box(P          R      mAP50  mAP50-95)     Mask(P          R      mAP50  mAP50-95): 100%|██████████| 1/1 [00:00<00:00, 21.21it/s]"
     ]
    },
    {
     "name": "stdout",
     "output_type": "stream",
     "text": [
      "                   all         12        460      0.872      0.859      0.907      0.571      0.873      0.855      0.908      0.458\n"
     ]
    },
    {
     "name": "stderr",
     "output_type": "stream",
     "text": [
      "\n"
     ]
    },
    {
     "name": "stdout",
     "output_type": "stream",
     "text": [
      "\n",
      "      Epoch    GPU_mem   box_loss   seg_loss   cls_loss   dfl_loss  Instances       Size\n"
     ]
    },
    {
     "name": "stderr",
     "output_type": "stream",
     "text": [
      "      36/50      5.96G      1.311        2.1     0.8075      1.159        802        640: 100%|██████████| 18/18 [00:01<00:00, 12.22it/s]\n",
      "                 Class     Images  Instances      Box(P          R      mAP50  mAP50-95)     Mask(P          R      mAP50  mAP50-95): 100%|██████████| 1/1 [00:00<00:00, 17.67it/s]"
     ]
    },
    {
     "name": "stdout",
     "output_type": "stream",
     "text": [
      "                   all         12        460      0.832      0.867      0.894      0.567       0.84      0.876      0.902      0.479\n"
     ]
    },
    {
     "name": "stderr",
     "output_type": "stream",
     "text": [
      "\n"
     ]
    },
    {
     "name": "stdout",
     "output_type": "stream",
     "text": [
      "\n",
      "      Epoch    GPU_mem   box_loss   seg_loss   cls_loss   dfl_loss  Instances       Size\n"
     ]
    },
    {
     "name": "stderr",
     "output_type": "stream",
     "text": [
      "      37/50      5.77G      1.319        2.1     0.8011      1.146        919        640: 100%|██████████| 18/18 [00:01<00:00, 11.79it/s]\n",
      "                 Class     Images  Instances      Box(P          R      mAP50  mAP50-95)     Mask(P          R      mAP50  mAP50-95): 100%|██████████| 1/1 [00:00<00:00, 21.13it/s]"
     ]
    },
    {
     "name": "stdout",
     "output_type": "stream",
     "text": [
      "                   all         12        460      0.889      0.873       0.92      0.581      0.886      0.889       0.92      0.485\n"
     ]
    },
    {
     "name": "stderr",
     "output_type": "stream",
     "text": [
      "\n"
     ]
    },
    {
     "name": "stdout",
     "output_type": "stream",
     "text": [
      "\n",
      "      Epoch    GPU_mem   box_loss   seg_loss   cls_loss   dfl_loss  Instances       Size\n"
     ]
    },
    {
     "name": "stderr",
     "output_type": "stream",
     "text": [
      "      38/50      6.15G       1.29      2.053     0.7737      1.135       1232        640: 100%|██████████| 18/18 [00:01<00:00, 11.63it/s]\n",
      "                 Class     Images  Instances      Box(P          R      mAP50  mAP50-95)     Mask(P          R      mAP50  mAP50-95): 100%|██████████| 1/1 [00:00<00:00, 21.40it/s]"
     ]
    },
    {
     "name": "stdout",
     "output_type": "stream",
     "text": [
      "                   all         12        460      0.871      0.864      0.901      0.562      0.879      0.867      0.902      0.471\n"
     ]
    },
    {
     "name": "stderr",
     "output_type": "stream",
     "text": [
      "\n"
     ]
    },
    {
     "name": "stdout",
     "output_type": "stream",
     "text": [
      "\n",
      "      Epoch    GPU_mem   box_loss   seg_loss   cls_loss   dfl_loss  Instances       Size\n"
     ]
    },
    {
     "name": "stderr",
     "output_type": "stream",
     "text": [
      "      39/50      6.15G      1.288      2.047     0.7551      1.135       1010        640: 100%|██████████| 18/18 [00:01<00:00, 11.74it/s]\n",
      "                 Class     Images  Instances      Box(P          R      mAP50  mAP50-95)     Mask(P          R      mAP50  mAP50-95): 100%|██████████| 1/1 [00:00<00:00, 20.33it/s]"
     ]
    },
    {
     "name": "stdout",
     "output_type": "stream",
     "text": [
      "                   all         12        460      0.895      0.885      0.926      0.598      0.898      0.887      0.924      0.496\n"
     ]
    },
    {
     "name": "stderr",
     "output_type": "stream",
     "text": [
      "\n"
     ]
    },
    {
     "name": "stdout",
     "output_type": "stream",
     "text": [
      "\n",
      "      Epoch    GPU_mem   box_loss   seg_loss   cls_loss   dfl_loss  Instances       Size\n"
     ]
    },
    {
     "name": "stderr",
     "output_type": "stream",
     "text": [
      "      40/50       5.4G      1.279      2.069     0.7774      1.142       1039        640: 100%|██████████| 18/18 [00:01<00:00, 12.10it/s]\n",
      "                 Class     Images  Instances      Box(P          R      mAP50  mAP50-95)     Mask(P          R      mAP50  mAP50-95): 100%|██████████| 1/1 [00:00<00:00, 21.35it/s]"
     ]
    },
    {
     "name": "stdout",
     "output_type": "stream",
     "text": [
      "                   all         12        460      0.895      0.867      0.928      0.582      0.894      0.859      0.924      0.491\n"
     ]
    },
    {
     "name": "stderr",
     "output_type": "stream",
     "text": [
      "\n"
     ]
    },
    {
     "name": "stdout",
     "output_type": "stream",
     "text": [
      "Closing dataloader mosaic\n",
      "\u001b[34m\u001b[1malbumentations: \u001b[0mBlur(p=0.01, blur_limit=(3, 7)), MedianBlur(p=0.01, blur_limit=(3, 7)), ToGray(p=0.01), CLAHE(p=0.01, clip_limit=(1, 4.0), tile_grid_size=(8, 8))\n",
      "\n",
      "      Epoch    GPU_mem   box_loss   seg_loss   cls_loss   dfl_loss  Instances       Size\n"
     ]
    },
    {
     "name": "stderr",
     "output_type": "stream",
     "text": [
      "      41/50      4.45G      1.268      2.089     0.8007      1.136        499        640: 100%|██████████| 18/18 [00:01<00:00, 12.15it/s]\n",
      "                 Class     Images  Instances      Box(P          R      mAP50  mAP50-95)     Mask(P          R      mAP50  mAP50-95): 100%|██████████| 1/1 [00:00<00:00, 20.64it/s]"
     ]
    },
    {
     "name": "stdout",
     "output_type": "stream",
     "text": [
      "                   all         12        460      0.887      0.851      0.912      0.579      0.882      0.847        0.9      0.475\n"
     ]
    },
    {
     "name": "stderr",
     "output_type": "stream",
     "text": [
      "\n"
     ]
    },
    {
     "name": "stdout",
     "output_type": "stream",
     "text": [
      "\n",
      "      Epoch    GPU_mem   box_loss   seg_loss   cls_loss   dfl_loss  Instances       Size\n"
     ]
    },
    {
     "name": "stderr",
     "output_type": "stream",
     "text": [
      "      42/50      4.35G      1.238      2.078     0.7842      1.133        602        640: 100%|██████████| 18/18 [00:01<00:00, 16.17it/s]\n",
      "                 Class     Images  Instances      Box(P          R      mAP50  mAP50-95)     Mask(P          R      mAP50  mAP50-95): 100%|██████████| 1/1 [00:00<00:00, 19.39it/s]"
     ]
    },
    {
     "name": "stdout",
     "output_type": "stream",
     "text": [
      "                   all         12        460      0.896       0.85       0.92      0.591      0.891       0.85      0.917      0.496\n"
     ]
    },
    {
     "name": "stderr",
     "output_type": "stream",
     "text": [
      "\n"
     ]
    },
    {
     "name": "stdout",
     "output_type": "stream",
     "text": [
      "\n",
      "      Epoch    GPU_mem   box_loss   seg_loss   cls_loss   dfl_loss  Instances       Size\n"
     ]
    },
    {
     "name": "stderr",
     "output_type": "stream",
     "text": [
      "      43/50      4.33G      1.194      2.004     0.7305      1.116        559        640: 100%|██████████| 18/18 [00:01<00:00, 14.53it/s]\n",
      "                 Class     Images  Instances      Box(P          R      mAP50  mAP50-95)     Mask(P          R      mAP50  mAP50-95): 100%|██████████| 1/1 [00:00<00:00, 16.39it/s]"
     ]
    },
    {
     "name": "stdout",
     "output_type": "stream",
     "text": [
      "                   all         12        460      0.903      0.867      0.926      0.584       0.91      0.861      0.923      0.488\n"
     ]
    },
    {
     "name": "stderr",
     "output_type": "stream",
     "text": [
      "\n"
     ]
    },
    {
     "name": "stdout",
     "output_type": "stream",
     "text": [
      "\n",
      "      Epoch    GPU_mem   box_loss   seg_loss   cls_loss   dfl_loss  Instances       Size\n"
     ]
    },
    {
     "name": "stderr",
     "output_type": "stream",
     "text": [
      "      44/50       4.3G      1.198      1.998     0.7153      1.117        575        640: 100%|██████████| 18/18 [00:01<00:00, 13.47it/s]\n",
      "                 Class     Images  Instances      Box(P          R      mAP50  mAP50-95)     Mask(P          R      mAP50  mAP50-95): 100%|██████████| 1/1 [00:00<00:00, 19.50it/s]"
     ]
    },
    {
     "name": "stdout",
     "output_type": "stream",
     "text": [
      "                   all         12        460      0.905      0.872      0.929      0.611      0.906      0.875      0.931      0.514\n"
     ]
    },
    {
     "name": "stderr",
     "output_type": "stream",
     "text": [
      "\n"
     ]
    },
    {
     "name": "stdout",
     "output_type": "stream",
     "text": [
      "\n",
      "      Epoch    GPU_mem   box_loss   seg_loss   cls_loss   dfl_loss  Instances       Size\n"
     ]
    },
    {
     "name": "stderr",
     "output_type": "stream",
     "text": [
      "      45/50      4.18G       1.17      1.955     0.6956      1.096        567        640: 100%|██████████| 18/18 [00:01<00:00, 16.02it/s]\n",
      "                 Class     Images  Instances      Box(P          R      mAP50  mAP50-95)     Mask(P          R      mAP50  mAP50-95): 100%|██████████| 1/1 [00:00<00:00, 19.81it/s]"
     ]
    },
    {
     "name": "stdout",
     "output_type": "stream",
     "text": [
      "                   all         12        460      0.928      0.873      0.935      0.611      0.931      0.884      0.931      0.509\n"
     ]
    },
    {
     "name": "stderr",
     "output_type": "stream",
     "text": [
      "\n"
     ]
    },
    {
     "name": "stdout",
     "output_type": "stream",
     "text": [
      "\n",
      "      Epoch    GPU_mem   box_loss   seg_loss   cls_loss   dfl_loss  Instances       Size\n"
     ]
    },
    {
     "name": "stderr",
     "output_type": "stream",
     "text": [
      "      46/50      4.22G      1.151      1.931     0.6891      1.087        508        640: 100%|██████████| 18/18 [00:01<00:00, 15.79it/s]\n",
      "                 Class     Images  Instances      Box(P          R      mAP50  mAP50-95)     Mask(P          R      mAP50  mAP50-95): 100%|██████████| 1/1 [00:00<00:00, 20.97it/s]"
     ]
    },
    {
     "name": "stdout",
     "output_type": "stream",
     "text": [
      "                   all         12        460      0.933      0.882      0.933      0.622      0.931      0.879      0.929      0.514\n"
     ]
    },
    {
     "name": "stderr",
     "output_type": "stream",
     "text": [
      "\n"
     ]
    },
    {
     "name": "stdout",
     "output_type": "stream",
     "text": [
      "\n",
      "      Epoch    GPU_mem   box_loss   seg_loss   cls_loss   dfl_loss  Instances       Size\n"
     ]
    },
    {
     "name": "stderr",
     "output_type": "stream",
     "text": [
      "      47/50      4.19G      1.149      1.922     0.6804      1.085        482        640: 100%|██████████| 18/18 [00:01<00:00, 15.95it/s]\n",
      "                 Class     Images  Instances      Box(P          R      mAP50  mAP50-95)     Mask(P          R      mAP50  mAP50-95): 100%|██████████| 1/1 [00:00<00:00, 21.10it/s]"
     ]
    },
    {
     "name": "stdout",
     "output_type": "stream",
     "text": [
      "                   all         12        460      0.928      0.874       0.94      0.626      0.939      0.869      0.938      0.522\n"
     ]
    },
    {
     "name": "stderr",
     "output_type": "stream",
     "text": [
      "\n"
     ]
    },
    {
     "name": "stdout",
     "output_type": "stream",
     "text": [
      "\n",
      "      Epoch    GPU_mem   box_loss   seg_loss   cls_loss   dfl_loss  Instances       Size\n"
     ]
    },
    {
     "name": "stderr",
     "output_type": "stream",
     "text": [
      "      48/50      4.48G      1.147      1.919     0.6683      1.075        475        640: 100%|██████████| 18/18 [00:01<00:00, 15.88it/s]\n",
      "                 Class     Images  Instances      Box(P          R      mAP50  mAP50-95)     Mask(P          R      mAP50  mAP50-95): 100%|██████████| 1/1 [00:00<00:00, 21.33it/s]"
     ]
    },
    {
     "name": "stdout",
     "output_type": "stream",
     "text": [
      "                   all         12        460      0.937      0.875      0.945      0.627      0.943      0.872      0.942      0.526\n"
     ]
    },
    {
     "name": "stderr",
     "output_type": "stream",
     "text": [
      "\n"
     ]
    },
    {
     "name": "stdout",
     "output_type": "stream",
     "text": [
      "\n",
      "      Epoch    GPU_mem   box_loss   seg_loss   cls_loss   dfl_loss  Instances       Size\n"
     ]
    },
    {
     "name": "stderr",
     "output_type": "stream",
     "text": [
      "      49/50      4.26G      1.131      1.915     0.6634      1.083        559        640: 100%|██████████| 18/18 [00:01<00:00, 16.37it/s]\n",
      "                 Class     Images  Instances      Box(P          R      mAP50  mAP50-95)     Mask(P          R      mAP50  mAP50-95): 100%|██████████| 1/1 [00:00<00:00, 20.08it/s]"
     ]
    },
    {
     "name": "stdout",
     "output_type": "stream",
     "text": [
      "                   all         12        460      0.948      0.881      0.947      0.631      0.947      0.876      0.944      0.528\n"
     ]
    },
    {
     "name": "stderr",
     "output_type": "stream",
     "text": [
      "\n"
     ]
    },
    {
     "name": "stdout",
     "output_type": "stream",
     "text": [
      "\n",
      "      Epoch    GPU_mem   box_loss   seg_loss   cls_loss   dfl_loss  Instances       Size\n"
     ]
    },
    {
     "name": "stderr",
     "output_type": "stream",
     "text": [
      "      50/50      4.42G      1.123      1.898     0.6667      1.075        621        640: 100%|██████████| 18/18 [00:01<00:00, 15.87it/s]\n",
      "                 Class     Images  Instances      Box(P          R      mAP50  mAP50-95)     Mask(P          R      mAP50  mAP50-95): 100%|██████████| 1/1 [00:00<00:00, 20.63it/s]"
     ]
    },
    {
     "name": "stdout",
     "output_type": "stream",
     "text": [
      "                   all         12        460      0.932      0.897      0.947      0.634      0.931      0.902      0.944       0.53\n"
     ]
    },
    {
     "name": "stderr",
     "output_type": "stream",
     "text": [
      "\n"
     ]
    },
    {
     "name": "stdout",
     "output_type": "stream",
     "text": [
      "\n",
      "50 epochs completed in 0.026 hours.\n",
      "Optimizer stripped from runs/segment/train23/weights/last.pt, 6.8MB\n",
      "Optimizer stripped from runs/segment/train23/weights/best.pt, 6.8MB\n",
      "\n",
      "Validating runs/segment/train23/weights/best.pt...\n",
      "Ultralytics YOLOv8.2.64 🚀 Python-3.12.4 torch-2.3.1+cu118 CUDA:0 (NVIDIA GeForce RTX 4090, 24084MiB)\n",
      "YOLOv8n-seg summary (fused): 195 layers, 3,258,259 parameters, 0 gradients, 12.0 GFLOPs\n"
     ]
    },
    {
     "name": "stderr",
     "output_type": "stream",
     "text": [
      "                 Class     Images  Instances      Box(P          R      mAP50  mAP50-95)     Mask(P          R      mAP50  mAP50-95): 100%|██████████| 1/1 [00:00<00:00, 18.43it/s]\n"
     ]
    },
    {
     "name": "stdout",
     "output_type": "stream",
     "text": [
      "                   all         12        460       0.93      0.897      0.946      0.633      0.929      0.902      0.944       0.53\n",
      "Speed: 0.1ms preprocess, 0.4ms inference, 0.0ms loss, 0.5ms postprocess per image\n",
      "Results saved to \u001b[1mruns/segment/train23\u001b[0m\n"
     ]
    }
   ],
   "source": [
    "if train:\n",
    "    model = YOLO('yolov8n-seg.pt', task='segment')\n",
    "    model.train(data=dataset_yaml, epochs=50)"
   ]
  },
  {
   "cell_type": "code",
   "execution_count": 25,
   "id": "cf21450f-2f49-4250-91c3-4fb94bf89fc0",
   "metadata": {},
   "outputs": [],
   "source": [
    "model = YOLO(best_dir)"
   ]
  },
  {
   "cell_type": "code",
   "execution_count": null,
   "id": "6e4833d2-a896-448f-ae63-78c9d15a3068",
   "metadata": {},
   "outputs": [],
   "source": [
    "# Функция для логирования и вывода боксов\n",
    "def log_and_print_bboxes(image_path, model):\n",
    "    image = Image.open(image_path)\n",
    "    results = model(image)\n",
    "\n",
    "    for result in results:\n",
    "        boxes = result.boxes\n",
    "        for box in boxes:\n",
    "            x1, y1, x2, y2 = box.xyxy[0]  # Координаты бокса\n",
    "            label = box.cls  # Класс объекта\n",
    "            confidence = box.conf  # Уверенность\n",
    "    \n",
    "       \n",
    "            # Вывод в консоль\n",
    "            print(f\"Image: {image_path}, Box: [{x1}, {y1}, {x2}, {y2}], Class: {label}, Confidence: {confidence}\")\n",
    "    print(f'Количество bounding boxes на данной фотографии, то есть количество найденных виноградников ', len(boxes))\n"
   ]
  },
  {
   "cell_type": "code",
   "execution_count": null,
   "id": "a448cfa0-409a-4b70-a674-353fec3f88fb",
   "metadata": {},
   "outputs": [],
   "source": [
    "! ls /home/comp2/vineyards-1/test/images"
   ]
  },
  {
   "cell_type": "code",
   "execution_count": 59,
   "id": "b950048b-0098-4fae-85b9-99a28d1662c1",
   "metadata": {},
   "outputs": [
    {
     "name": "stdout",
     "output_type": "stream",
     "text": [
      "\n",
      "0: 640x640 74 vineyards, 2.1ms\n",
      "Speed: 10.4ms preprocess, 2.1ms inference, 5.0ms postprocess per image at shape (1, 3, 640, 640)\n",
      "Image: /home/comp2/vineyards-1/test/images/10crop_png_jpg.rf.06d8a88b65d376474607a6b8a8d30227.jpg, Box: [211.68557739257812, 131.093994140625, 277.9109191894531, 191.99246215820312], Class: tensor([0.], device='cuda:0'), Confidence: tensor([0.9278], device='cuda:0')\n",
      "Image: /home/comp2/vineyards-1/test/images/10crop_png_jpg.rf.06d8a88b65d376474607a6b8a8d30227.jpg, Box: [328.5447998046875, 181.77035522460938, 421.33837890625, 271.8367004394531], Class: tensor([0.], device='cuda:0'), Confidence: tensor([0.9232], device='cuda:0')\n",
      "Image: /home/comp2/vineyards-1/test/images/10crop_png_jpg.rf.06d8a88b65d376474607a6b8a8d30227.jpg, Box: [411.46337890625, 207.79815673828125, 480.67962646484375, 272.07293701171875], Class: tensor([0.], device='cuda:0'), Confidence: tensor([0.9107], device='cuda:0')\n",
      "Image: /home/comp2/vineyards-1/test/images/10crop_png_jpg.rf.06d8a88b65d376474607a6b8a8d30227.jpg, Box: [280.8251953125, 311.21551513671875, 361.446044921875, 381.37774658203125], Class: tensor([0.], device='cuda:0'), Confidence: tensor([0.9089], device='cuda:0')\n",
      "Image: /home/comp2/vineyards-1/test/images/10crop_png_jpg.rf.06d8a88b65d376474607a6b8a8d30227.jpg, Box: [281.99530029296875, 258.1392822265625, 332.29168701171875, 307.961669921875], Class: tensor([0.], device='cuda:0'), Confidence: tensor([0.9083], device='cuda:0')\n",
      "Image: /home/comp2/vineyards-1/test/images/10crop_png_jpg.rf.06d8a88b65d376474607a6b8a8d30227.jpg, Box: [423.67303466796875, 345.20477294921875, 519.0608520507812, 449.50909423828125], Class: tensor([0.], device='cuda:0'), Confidence: tensor([0.9062], device='cuda:0')\n",
      "Image: /home/comp2/vineyards-1/test/images/10crop_png_jpg.rf.06d8a88b65d376474607a6b8a8d30227.jpg, Box: [265.9823303222656, 37.257843017578125, 385.4064636230469, 135.42543029785156], Class: tensor([0.], device='cuda:0'), Confidence: tensor([0.8985], device='cuda:0')\n",
      "Image: /home/comp2/vineyards-1/test/images/10crop_png_jpg.rf.06d8a88b65d376474607a6b8a8d30227.jpg, Box: [424.62921142578125, 124.12606048583984, 496.560302734375, 195.18185424804688], Class: tensor([0.], device='cuda:0'), Confidence: tensor([0.8981], device='cuda:0')\n",
      "Image: /home/comp2/vineyards-1/test/images/10crop_png_jpg.rf.06d8a88b65d376474607a6b8a8d30227.jpg, Box: [502.8621826171875, 243.66635131835938, 559.6226806640625, 296.0261535644531], Class: tensor([0.], device='cuda:0'), Confidence: tensor([0.8908], device='cuda:0')\n",
      "Image: /home/comp2/vineyards-1/test/images/10crop_png_jpg.rf.06d8a88b65d376474607a6b8a8d30227.jpg, Box: [534.8590698242188, 313.5554504394531, 572.2385864257812, 354.0311584472656], Class: tensor([0.], device='cuda:0'), Confidence: tensor([0.8848], device='cuda:0')\n",
      "Image: /home/comp2/vineyards-1/test/images/10crop_png_jpg.rf.06d8a88b65d376474607a6b8a8d30227.jpg, Box: [0.83282470703125, 542.5906982421875, 86.50973510742188, 625.3572998046875], Class: tensor([0.], device='cuda:0'), Confidence: tensor([0.8778], device='cuda:0')\n",
      "Image: /home/comp2/vineyards-1/test/images/10crop_png_jpg.rf.06d8a88b65d376474607a6b8a8d30227.jpg, Box: [570.47412109375, 266.73193359375, 631.90478515625, 321.03851318359375], Class: tensor([0.], device='cuda:0'), Confidence: tensor([0.8744], device='cuda:0')\n",
      "Image: /home/comp2/vineyards-1/test/images/10crop_png_jpg.rf.06d8a88b65d376474607a6b8a8d30227.jpg, Box: [483.08563232421875, 502.14862060546875, 558.6748657226562, 575.7990112304688], Class: tensor([0.], device='cuda:0'), Confidence: tensor([0.8743], device='cuda:0')\n",
      "Image: /home/comp2/vineyards-1/test/images/10crop_png_jpg.rf.06d8a88b65d376474607a6b8a8d30227.jpg, Box: [0.4498748779296875, 188.54257202148438, 206.28024291992188, 378.8335876464844], Class: tensor([0.], device='cuda:0'), Confidence: tensor([0.8647], device='cuda:0')\n",
      "Image: /home/comp2/vineyards-1/test/images/10crop_png_jpg.rf.06d8a88b65d376474607a6b8a8d30227.jpg, Box: [543.1797485351562, 546.6400756835938, 621.4258422851562, 622.5121459960938], Class: tensor([0.], device='cuda:0'), Confidence: tensor([0.8589], device='cuda:0')\n",
      "Image: /home/comp2/vineyards-1/test/images/10crop_png_jpg.rf.06d8a88b65d376474607a6b8a8d30227.jpg, Box: [495.12835693359375, 79.3199462890625, 558.0143432617188, 144.66799926757812], Class: tensor([0.], device='cuda:0'), Confidence: tensor([0.8479], device='cuda:0')\n",
      "Image: /home/comp2/vineyards-1/test/images/10crop_png_jpg.rf.06d8a88b65d376474607a6b8a8d30227.jpg, Box: [263.1131591796875, 204.90545654296875, 297.47869873046875, 239.35858154296875], Class: tensor([0.], device='cuda:0'), Confidence: tensor([0.8466], device='cuda:0')\n",
      "Image: /home/comp2/vineyards-1/test/images/10crop_png_jpg.rf.06d8a88b65d376474607a6b8a8d30227.jpg, Box: [235.63575744628906, 499.05242919921875, 354.0052490234375, 599.9928588867188], Class: tensor([0.], device='cuda:0'), Confidence: tensor([0.8456], device='cuda:0')\n",
      "Image: /home/comp2/vineyards-1/test/images/10crop_png_jpg.rf.06d8a88b65d376474607a6b8a8d30227.jpg, Box: [36.07252883911133, 438.59039306640625, 127.49659729003906, 523.46630859375], Class: tensor([0.], device='cuda:0'), Confidence: tensor([0.8260], device='cuda:0')\n",
      "Image: /home/comp2/vineyards-1/test/images/10crop_png_jpg.rf.06d8a88b65d376474607a6b8a8d30227.jpg, Box: [149.31100463867188, 106.80834197998047, 195.04660034179688, 156.3990478515625], Class: tensor([0.], device='cuda:0'), Confidence: tensor([0.8237], device='cuda:0')\n",
      "Image: /home/comp2/vineyards-1/test/images/10crop_png_jpg.rf.06d8a88b65d376474607a6b8a8d30227.jpg, Box: [126.60617065429688, 19.11255645751953, 199.36456298828125, 95.51818084716797], Class: tensor([0.], device='cuda:0'), Confidence: tensor([0.8148], device='cuda:0')\n",
      "Image: /home/comp2/vineyards-1/test/images/10crop_png_jpg.rf.06d8a88b65d376474607a6b8a8d30227.jpg, Box: [455.2730712890625, 296.0598449707031, 492.7861328125, 337.0323181152344], Class: tensor([0.], device='cuda:0'), Confidence: tensor([0.8143], device='cuda:0')\n",
      "Image: /home/comp2/vineyards-1/test/images/10crop_png_jpg.rf.06d8a88b65d376474607a6b8a8d30227.jpg, Box: [96.47425079345703, 396.3421630859375, 173.2109375, 463.3408203125], Class: tensor([0.], device='cuda:0'), Confidence: tensor([0.8093], device='cuda:0')\n",
      "Image: /home/comp2/vineyards-1/test/images/10crop_png_jpg.rf.06d8a88b65d376474607a6b8a8d30227.jpg, Box: [537.1218872070312, 476.88372802734375, 587.9603881835938, 527.5692138671875], Class: tensor([0.], device='cuda:0'), Confidence: tensor([0.8069], device='cuda:0')\n",
      "Image: /home/comp2/vineyards-1/test/images/10crop_png_jpg.rf.06d8a88b65d376474607a6b8a8d30227.jpg, Box: [498.60760498046875, 419.657470703125, 559.3617553710938, 476.7095947265625], Class: tensor([0.], device='cuda:0'), Confidence: tensor([0.8066], device='cuda:0')\n",
      "Image: /home/comp2/vineyards-1/test/images/10crop_png_jpg.rf.06d8a88b65d376474607a6b8a8d30227.jpg, Box: [150.8653564453125, 347.75164794921875, 226.4586181640625, 420.42364501953125], Class: tensor([0.], device='cuda:0'), Confidence: tensor([0.8044], device='cuda:0')\n",
      "Image: /home/comp2/vineyards-1/test/images/10crop_png_jpg.rf.06d8a88b65d376474607a6b8a8d30227.jpg, Box: [432.27490234375, 3.7847061157226562, 530.45166015625, 86.94407653808594], Class: tensor([0.], device='cuda:0'), Confidence: tensor([0.7979], device='cuda:0')\n",
      "Image: /home/comp2/vineyards-1/test/images/10crop_png_jpg.rf.06d8a88b65d376474607a6b8a8d30227.jpg, Box: [420.05133056640625, 587.2960205078125, 459.96087646484375, 631.4471435546875], Class: tensor([0.], device='cuda:0'), Confidence: tensor([0.7934], device='cuda:0')\n",
      "Image: /home/comp2/vineyards-1/test/images/10crop_png_jpg.rf.06d8a88b65d376474607a6b8a8d30227.jpg, Box: [301.27099609375, 412.4561767578125, 351.3443603515625, 458.45263671875], Class: tensor([0.], device='cuda:0'), Confidence: tensor([0.7925], device='cuda:0')\n",
      "Image: /home/comp2/vineyards-1/test/images/10crop_png_jpg.rf.06d8a88b65d376474607a6b8a8d30227.jpg, Box: [113.11077880859375, 131.77059936523438, 152.92535400390625, 155.97860717773438], Class: tensor([0.], device='cuda:0'), Confidence: tensor([0.7853], device='cuda:0')\n",
      "Image: /home/comp2/vineyards-1/test/images/10crop_png_jpg.rf.06d8a88b65d376474607a6b8a8d30227.jpg, Box: [476.6417541503906, 276.8416748046875, 508.3935852050781, 308.3006591796875], Class: tensor([0.], device='cuda:0'), Confidence: tensor([0.7755], device='cuda:0')\n",
      "Image: /home/comp2/vineyards-1/test/images/10crop_png_jpg.rf.06d8a88b65d376474607a6b8a8d30227.jpg, Box: [364.9388427734375, 529.5147705078125, 418.585693359375, 592.5345458984375], Class: tensor([0.], device='cuda:0'), Confidence: tensor([0.7718], device='cuda:0')\n",
      "Image: /home/comp2/vineyards-1/test/images/10crop_png_jpg.rf.06d8a88b65d376474607a6b8a8d30227.jpg, Box: [368.5668640136719, 269.69549560546875, 407.3620300292969, 312.82196044921875], Class: tensor([0.], device='cuda:0'), Confidence: tensor([0.7663], device='cuda:0')\n",
      "Image: /home/comp2/vineyards-1/test/images/10crop_png_jpg.rf.06d8a88b65d376474607a6b8a8d30227.jpg, Box: [546.5159912109375, 65.5274658203125, 575.1971435546875, 97.37063598632812], Class: tensor([0.], device='cuda:0'), Confidence: tensor([0.7641], device='cuda:0')\n",
      "Image: /home/comp2/vineyards-1/test/images/10crop_png_jpg.rf.06d8a88b65d376474607a6b8a8d30227.jpg, Box: [102.32813262939453, 307.6650390625, 175.079833984375, 356.1707763671875], Class: tensor([0.], device='cuda:0'), Confidence: tensor([0.7632], device='cuda:0')\n",
      "Image: /home/comp2/vineyards-1/test/images/10crop_png_jpg.rf.06d8a88b65d376474607a6b8a8d30227.jpg, Box: [68.06770324707031, 507.90869140625, 136.95164489746094, 560.61376953125], Class: tensor([0.], device='cuda:0'), Confidence: tensor([0.7581], device='cuda:0')\n",
      "Image: /home/comp2/vineyards-1/test/images/10crop_png_jpg.rf.06d8a88b65d376474607a6b8a8d30227.jpg, Box: [226.23492431640625, 454.80963134765625, 294.2664794921875, 524.1798095703125], Class: tensor([0.], device='cuda:0'), Confidence: tensor([0.7573], device='cuda:0')\n",
      "Image: /home/comp2/vineyards-1/test/images/10crop_png_jpg.rf.06d8a88b65d376474607a6b8a8d30227.jpg, Box: [209.36370849609375, 0.0, 244.71368408203125, 25.643665313720703], Class: tensor([0.], device='cuda:0'), Confidence: tensor([0.7550], device='cuda:0')\n",
      "Image: /home/comp2/vineyards-1/test/images/10crop_png_jpg.rf.06d8a88b65d376474607a6b8a8d30227.jpg, Box: [411.8836975097656, 329.2965087890625, 449.5943908691406, 366.393310546875], Class: tensor([0.], device='cuda:0'), Confidence: tensor([0.7499], device='cuda:0')\n",
      "Image: /home/comp2/vineyards-1/test/images/10crop_png_jpg.rf.06d8a88b65d376474607a6b8a8d30227.jpg, Box: [483.074462890625, 589.9760131835938, 567.341796875, 639.7156372070312], Class: tensor([0.], device='cuda:0'), Confidence: tensor([0.7376], device='cuda:0')\n",
      "Image: /home/comp2/vineyards-1/test/images/10crop_png_jpg.rf.06d8a88b65d376474607a6b8a8d30227.jpg, Box: [83.10836791992188, 592.423583984375, 134.9403839111328, 640.0], Class: tensor([0.], device='cuda:0'), Confidence: tensor([0.7373], device='cuda:0')\n",
      "Image: /home/comp2/vineyards-1/test/images/10crop_png_jpg.rf.06d8a88b65d376474607a6b8a8d30227.jpg, Box: [591.8667602539062, 333.6568603515625, 639.8250122070312, 396.49456787109375], Class: tensor([0.], device='cuda:0'), Confidence: tensor([0.7184], device='cuda:0')\n",
      "Image: /home/comp2/vineyards-1/test/images/10crop_png_jpg.rf.06d8a88b65d376474607a6b8a8d30227.jpg, Box: [177.70559692382812, 438.3563232421875, 223.26712036132812, 471.1912841796875], Class: tensor([0.], device='cuda:0'), Confidence: tensor([0.6927], device='cuda:0')\n",
      "Image: /home/comp2/vineyards-1/test/images/10crop_png_jpg.rf.06d8a88b65d376474607a6b8a8d30227.jpg, Box: [588.4976806640625, 175.95562744140625, 639.2269287109375, 218.577880859375], Class: tensor([0.], device='cuda:0'), Confidence: tensor([0.6822], device='cuda:0')\n",
      "Image: /home/comp2/vineyards-1/test/images/10crop_png_jpg.rf.06d8a88b65d376474607a6b8a8d30227.jpg, Box: [384.0014343261719, 364.97381591796875, 422.4471130371094, 402.21246337890625], Class: tensor([0.], device='cuda:0'), Confidence: tensor([0.6805], device='cuda:0')\n",
      "Image: /home/comp2/vineyards-1/test/images/10crop_png_jpg.rf.06d8a88b65d376474607a6b8a8d30227.jpg, Box: [423.81329345703125, 504.002197265625, 463.61614990234375, 540.593017578125], Class: tensor([0.], device='cuda:0'), Confidence: tensor([0.6691], device='cuda:0')\n",
      "Image: /home/comp2/vineyards-1/test/images/10crop_png_jpg.rf.06d8a88b65d376474607a6b8a8d30227.jpg, Box: [385.49029541015625, 421.8023681640625, 442.49871826171875, 479.32666015625], Class: tensor([0.], device='cuda:0'), Confidence: tensor([0.6595], device='cuda:0')\n",
      "Image: /home/comp2/vineyards-1/test/images/10crop_png_jpg.rf.06d8a88b65d376474607a6b8a8d30227.jpg, Box: [274.39617919921875, 599.3255004882812, 338.166015625, 639.6948852539062], Class: tensor([0.], device='cuda:0'), Confidence: tensor([0.6321], device='cuda:0')\n",
      "Image: /home/comp2/vineyards-1/test/images/10crop_png_jpg.rf.06d8a88b65d376474607a6b8a8d30227.jpg, Box: [162.80224609375, 542.9600219726562, 201.39569091796875, 579.6337280273438], Class: tensor([0.], device='cuda:0'), Confidence: tensor([0.6192], device='cuda:0')\n",
      "Image: /home/comp2/vineyards-1/test/images/10crop_png_jpg.rf.06d8a88b65d376474607a6b8a8d30227.jpg, Box: [0.019361495971679688, 74.88365173339844, 18.8973445892334, 108.52023315429688], Class: tensor([0.], device='cuda:0'), Confidence: tensor([0.6149], device='cuda:0')\n",
      "Image: /home/comp2/vineyards-1/test/images/10crop_png_jpg.rf.06d8a88b65d376474607a6b8a8d30227.jpg, Box: [191.63803100585938, 238.4832000732422, 244.11941528320312, 289.57159423828125], Class: tensor([0.], device='cuda:0'), Confidence: tensor([0.6056], device='cuda:0')\n",
      "Image: /home/comp2/vineyards-1/test/images/10crop_png_jpg.rf.06d8a88b65d376474607a6b8a8d30227.jpg, Box: [0.1894369125366211, 0.17115020751953125, 31.91948699951172, 33.610679626464844], Class: tensor([0.], device='cuda:0'), Confidence: tensor([0.5643], device='cuda:0')\n",
      "Image: /home/comp2/vineyards-1/test/images/10crop_png_jpg.rf.06d8a88b65d376474607a6b8a8d30227.jpg, Box: [616.70068359375, 592.6368408203125, 639.880615234375, 635.3760986328125], Class: tensor([0.], device='cuda:0'), Confidence: tensor([0.5624], device='cuda:0')\n",
      "Image: /home/comp2/vineyards-1/test/images/10crop_png_jpg.rf.06d8a88b65d376474607a6b8a8d30227.jpg, Box: [17.440584182739258, 388.6529541015625, 71.1539306640625, 435.0142822265625], Class: tensor([0.], device='cuda:0'), Confidence: tensor([0.5620], device='cuda:0')\n",
      "Image: /home/comp2/vineyards-1/test/images/10crop_png_jpg.rf.06d8a88b65d376474607a6b8a8d30227.jpg, Box: [604.4655151367188, 505.926513671875, 639.7459106445312, 564.7421875], Class: tensor([0.], device='cuda:0'), Confidence: tensor([0.5523], device='cuda:0')\n",
      "Image: /home/comp2/vineyards-1/test/images/10crop_png_jpg.rf.06d8a88b65d376474607a6b8a8d30227.jpg, Box: [613.7178344726562, 413.987060546875, 639.7510375976562, 462.7886962890625], Class: tensor([0.], device='cuda:0'), Confidence: tensor([0.5513], device='cuda:0')\n",
      "Image: /home/comp2/vineyards-1/test/images/10crop_png_jpg.rf.06d8a88b65d376474607a6b8a8d30227.jpg, Box: [300.455322265625, 177.96871948242188, 332.2310791015625, 206.70083618164062], Class: tensor([0.], device='cuda:0'), Confidence: tensor([0.5281], device='cuda:0')\n",
      "Image: /home/comp2/vineyards-1/test/images/10crop_png_jpg.rf.06d8a88b65d376474607a6b8a8d30227.jpg, Box: [572.6495361328125, 41.59013366699219, 596.2525634765625, 70.63084411621094], Class: tensor([0.], device='cuda:0'), Confidence: tensor([0.4697], device='cuda:0')\n",
      "Image: /home/comp2/vineyards-1/test/images/10crop_png_jpg.rf.06d8a88b65d376474607a6b8a8d30227.jpg, Box: [521.43408203125, 0.02623748779296875, 549.49365234375, 20.114242553710938], Class: tensor([0.], device='cuda:0'), Confidence: tensor([0.4655], device='cuda:0')\n",
      "Image: /home/comp2/vineyards-1/test/images/10crop_png_jpg.rf.06d8a88b65d376474607a6b8a8d30227.jpg, Box: [452.2984619140625, 558.6064453125, 492.3526611328125, 599.934814453125], Class: tensor([0.], device='cuda:0'), Confidence: tensor([0.4458], device='cuda:0')\n",
      "Image: /home/comp2/vineyards-1/test/images/10crop_png_jpg.rf.06d8a88b65d376474607a6b8a8d30227.jpg, Box: [295.1307678222656, 181.44866943359375, 325.7632751464844, 209.7646484375], Class: tensor([0.], device='cuda:0'), Confidence: tensor([0.4226], device='cuda:0')\n",
      "Image: /home/comp2/vineyards-1/test/images/10crop_png_jpg.rf.06d8a88b65d376474607a6b8a8d30227.jpg, Box: [236.58607482910156, 296.8554992675781, 280.7891845703125, 353.1168518066406], Class: tensor([0.], device='cuda:0'), Confidence: tensor([0.4175], device='cuda:0')\n",
      "Image: /home/comp2/vineyards-1/test/images/10crop_png_jpg.rf.06d8a88b65d376474607a6b8a8d30227.jpg, Box: [59.79697799682617, 25.540464401245117, 81.03443908691406, 45.92488098144531], Class: tensor([0.], device='cuda:0'), Confidence: tensor([0.3681], device='cuda:0')\n",
      "Image: /home/comp2/vineyards-1/test/images/10crop_png_jpg.rf.06d8a88b65d376474607a6b8a8d30227.jpg, Box: [428.69073486328125, 0.050909996032714844, 460.62799072265625, 11.810522079467773], Class: tensor([0.], device='cuda:0'), Confidence: tensor([0.3672], device='cuda:0')\n",
      "Image: /home/comp2/vineyards-1/test/images/10crop_png_jpg.rf.06d8a88b65d376474607a6b8a8d30227.jpg, Box: [536.7877197265625, 145.1409454345703, 566.580810546875, 179.54420471191406], Class: tensor([0.], device='cuda:0'), Confidence: tensor([0.3360], device='cuda:0')\n",
      "Image: /home/comp2/vineyards-1/test/images/10crop_png_jpg.rf.06d8a88b65d376474607a6b8a8d30227.jpg, Box: [589.7015991210938, 114.58660888671875, 616.8590698242188, 137.56532287597656], Class: tensor([0.], device='cuda:0'), Confidence: tensor([0.3340], device='cuda:0')\n",
      "Image: /home/comp2/vineyards-1/test/images/10crop_png_jpg.rf.06d8a88b65d376474607a6b8a8d30227.jpg, Box: [617.403564453125, 0.0811309814453125, 639.8028564453125, 29.018829345703125], Class: tensor([0.], device='cuda:0'), Confidence: tensor([0.3054], device='cuda:0')\n",
      "Image: /home/comp2/vineyards-1/test/images/10crop_png_jpg.rf.06d8a88b65d376474607a6b8a8d30227.jpg, Box: [151.00222778320312, 616.32421875, 211.2952880859375, 639.72021484375], Class: tensor([0.], device='cuda:0'), Confidence: tensor([0.2914], device='cuda:0')\n",
      "Image: /home/comp2/vineyards-1/test/images/10crop_png_jpg.rf.06d8a88b65d376474607a6b8a8d30227.jpg, Box: [391.13238525390625, 626.0796508789062, 419.00469970703125, 639.7437133789062], Class: tensor([0.], device='cuda:0'), Confidence: tensor([0.2764], device='cuda:0')\n",
      "Image: /home/comp2/vineyards-1/test/images/10crop_png_jpg.rf.06d8a88b65d376474607a6b8a8d30227.jpg, Box: [367.318359375, 460.91796875, 397.0762939453125, 491.2093505859375], Class: tensor([0.], device='cuda:0'), Confidence: tensor([0.2694], device='cuda:0')\n",
      "Image: /home/comp2/vineyards-1/test/images/10crop_png_jpg.rf.06d8a88b65d376474607a6b8a8d30227.jpg, Box: [324.4963684082031, 255.83621215820312, 349.8766784667969, 282.6749572753906], Class: tensor([0.], device='cuda:0'), Confidence: tensor([0.2583], device='cuda:0')\n",
      "Image: /home/comp2/vineyards-1/test/images/10crop_png_jpg.rf.06d8a88b65d376474607a6b8a8d30227.jpg, Box: [67.463134765625, 182.72232055664062, 93.31195068359375, 213.56182861328125], Class: tensor([0.], device='cuda:0'), Confidence: tensor([0.2579], device='cuda:0')\n",
      "Image: /home/comp2/vineyards-1/test/images/10crop_png_jpg.rf.06d8a88b65d376474607a6b8a8d30227.jpg, Box: [629.3553466796875, 77.59908294677734, 639.7125244140625, 104.5008773803711], Class: tensor([0.], device='cuda:0'), Confidence: tensor([0.2566], device='cuda:0')\n",
      "Image: /home/comp2/vineyards-1/test/images/10crop_png_jpg.rf.06d8a88b65d376474607a6b8a8d30227.jpg, Box: [0.0916900634765625, 430.08807373046875, 18.306467056274414, 461.98211669921875], Class: tensor([0.], device='cuda:0'), Confidence: tensor([0.2530], device='cuda:0')\n",
      "Количество bounding boxes на данной фотографии, то есть количество найденных виноградников  74\n"
     ]
    }
   ],
   "source": [
    "# Пример логирования и вывода для одного изображения\n",
    "test_image_path = '/home/comp2/vineyards-1/test/images/10crop_png_jpg.rf.06d8a88b65d376474607a6b8a8d30227.jpg'  # Замените на реальный путь к вашему тестовому изображению\n",
    "log_and_print_bboxes(test_image_path, model)"
   ]
  }
 ],
 "metadata": {
  "kernelspec": {
   "display_name": "Python 3 (ipykernel)",
   "language": "python",
   "name": "python3"
  },
  "language_info": {
   "codemirror_mode": {
    "name": "ipython",
    "version": 3
   },
   "file_extension": ".py",
   "mimetype": "text/x-python",
   "name": "python",
   "nbconvert_exporter": "python",
   "pygments_lexer": "ipython3",
   "version": "3.12.4"
  }
 },
 "nbformat": 4,
 "nbformat_minor": 5
}
